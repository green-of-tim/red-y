{
  "nbformat": 4,
  "nbformat_minor": 0,
  "metadata": {
    "colab": {
      "name": "Q_tabular_FrozenLake_v0.ipynb",
      "provenance": [],
      "collapsed_sections": [],
      "authorship_tag": "ABX9TyNKAazmVoIi69g3BGzh0Ud/"
    },
    "kernelspec": {
      "name": "python3",
      "display_name": "Python 3"
    }
  },
  "cells": [
    {
      "cell_type": "code",
      "metadata": {
        "id": "4iuLDhY7zk5t",
        "colab_type": "code",
        "colab": {}
      },
      "source": [
        "import numpy as np\n",
        "import gym\n",
        "import random\n",
        "import matplotlib.pyplot as plt"
      ],
      "execution_count": 0,
      "outputs": []
    },
    {
      "cell_type": "code",
      "metadata": {
        "id": "eWBIEmDwzs_Y",
        "colab_type": "code",
        "colab": {}
      },
      "source": [
        "env = gym.make(\"FrozenLake-v0\")\n",
        "action_num = env.action_space.n\n",
        "obs_num = env.observation_space.n"
      ],
      "execution_count": 0,
      "outputs": []
    },
    {
      "cell_type": "code",
      "metadata": {
        "id": "ehHSfY_a0D3A",
        "colab_type": "code",
        "colab": {}
      },
      "source": [
        "# Learning Parameters\n",
        "episodes_num = 10000\n",
        "learning_rate = 0.1\n",
        "max_steps = 99\n",
        "discount = 0.94\n",
        "epsilon = 1.0\n",
        "epsilon_min = 0.1\n",
        "epsilon_max = 1.0\n",
        "decay_rate = 0.001"
      ],
      "execution_count": 0,
      "outputs": []
    },
    {
      "cell_type": "code",
      "metadata": {
        "id": "wdf_mdDx3kHN",
        "colab_type": "code",
        "colab": {}
      },
      "source": [
        "q_table = np.zeros((obs_num, action_num))"
      ],
      "execution_count": 0,
      "outputs": []
    },
    {
      "cell_type": "code",
      "metadata": {
        "id": "g7t5dH9G4wbo",
        "colab_type": "code",
        "colab": {}
      },
      "source": [
        "def greedy(eps):\n",
        "  pivot = random.uniform(0, 1)\n",
        "  return pivot > eps"
      ],
      "execution_count": 0,
      "outputs": []
    },
    {
      "cell_type": "code",
      "metadata": {
        "id": "9yZ8Ot5M0Jcj",
        "colab_type": "code",
        "outputId": "3540e20e-e123-4600-f93a-82cb9d8b6fe7",
        "colab": {
          "base_uri": "https://localhost:8080/",
          "height": 52
        }
      },
      "source": [
        "rewards = []\n",
        "steps_till_success = []\n",
        "\n",
        "for episode in range(episodes_num):\n",
        "  state = env.reset()\n",
        "  reward = 0\n",
        "  step = 0\n",
        "  done = False\n",
        "  cumul_rewards = 0\n",
        "\n",
        "  for step in range(max_steps):\n",
        "    # env.render()\n",
        "\n",
        "    # Choose an action\n",
        "    if greedy(epsilon):\n",
        "      action = np.argmax(q_table[state,:])\n",
        "    else:\n",
        "      action = env.action_space.sample()\n",
        "\n",
        "    # Perform it\n",
        "    new_state, reward, done, _ = env.step(action)\n",
        "\n",
        "    if reward == 0 and done == True:\n",
        "      reward = -1\n",
        "    elif done == False:\n",
        "      reward = 0\n",
        "    else:\n",
        "      reward = 1\n",
        "\n",
        "    # Update q-table\n",
        "    q_table[state, action] = q_table[state, action] + learning_rate * (reward + \n",
        "                  discount * np.max(q_table[new_state, :]) - q_table[state, action])\n",
        "    state = new_state\n",
        "\n",
        "    cumul_rewards += reward\n",
        "    if reward > 0:\n",
        "      steps_till_success.append(step + 1)\n",
        "\n",
        "    if done == True:\n",
        "      break\n",
        "\n",
        "  # env.render()\n",
        "  if cumul_rewards < 1:\n",
        "    steps_till_success.append(max_steps + 1)\n",
        "  epsilon = epsilon_min + (epsilon_max - epsilon_min)*np.exp(-decay_rate * episode) \n",
        "  rewards.append(cumul_rewards)\n",
        "  # print(\"**********************************************************************\")\n",
        "\n",
        "env.close()\n",
        "print(f'Average reward:{sum(rewards)/episodes_num}')\n",
        "print(f'Min step to success: {min(steps_till_success)}')"
      ],
      "execution_count": 8,
      "outputs": [
        {
          "output_type": "stream",
          "text": [
            "Average reward:-0.3744\n",
            "Min step to success: 6\n"
          ],
          "name": "stdout"
        }
      ]
    },
    {
      "cell_type": "code",
      "metadata": {
        "id": "YwNiQMNx7228",
        "colab_type": "code",
        "outputId": "58c4f007-0c53-41e7-cc6f-a0b17d989f15",
        "colab": {
          "base_uri": "https://localhost:8080/",
          "height": 279
        }
      },
      "source": [
        "plt.plot(steps_till_success)\n",
        "plt.xlabel('Episode')\n",
        "plt.ylabel('Steps until success')\n",
        "plt.show()"
      ],
      "execution_count": 9,
      "outputs": [
        {
          "output_type": "display_data",
          "data": {
            "image/png": "[encoded data removed]",
            "text/plain": [
              "<Figure size 432x288 with 1 Axes>"
            ]
          },
          "metadata": {
            "tags": []
          }
        }
      ]
    },
    {
      "cell_type": "code",
      "metadata": {
        "id": "2Wt_lIkhKwt1",
        "colab_type": "code",
        "outputId": "82818f19-0e2a-475a-83ac-9872aea4cc0f",
        "colab": {
          "base_uri": "https://localhost:8080/",
          "height": 279
        }
      },
      "source": [
        "plt.plot(steps_till_success[7999:10000])\n",
        "plt.xlabel('Episode')\n",
        "plt.ylabel('Steps until success')\n",
        "plt.show()"
      ],
      "execution_count": 10,
      "outputs": [
        {
          "output_type": "display_data",
          "data": {
            "image/png": "[encoded data removed]",
            "text/plain": [
              "<Figure size 432x288 with 1 Axes>"
            ]
          },
          "metadata": {
            "tags": []
          }
        }
      ]
    },
    {
      "cell_type": "code",
      "metadata": {
        "id": "182Ok7tp_p9z",
        "colab_type": "code",
        "outputId": "199c64b7-c1ff-4357-b166-0c11b5d3334e",
        "colab": {
          "base_uri": "https://localhost:8080/",
          "height": 295
        }
      },
      "source": [
        "print(q_table)"
      ],
      "execution_count": 11,
      "outputs": [
        {
          "output_type": "stream",
          "text": [
            "[[ 0.11455872  0.08693176  0.10332296  0.08430843]\n",
            " [-0.09932226 -0.06549659 -0.16973612  0.07858034]\n",
            " [-0.02526165 -0.10383939 -0.04051943  0.05428363]\n",
            " [-0.38686588 -0.14254569 -0.2925412   0.04104946]\n",
            " [ 0.15187517 -0.13541747 -0.14831234 -0.14474465]\n",
            " [ 0.          0.          0.          0.        ]\n",
            " [-0.59357547 -0.55153443 -0.1159228  -0.65487069]\n",
            " [ 0.          0.          0.          0.        ]\n",
            " [-0.38092747 -0.26034517 -0.19263593  0.23039596]\n",
            " [-0.23245738  0.33768099 -0.19899254 -0.37917141]\n",
            " [ 0.33063448 -0.19321759 -0.06095841 -0.22132438]\n",
            " [ 0.          0.          0.          0.        ]\n",
            " [ 0.          0.          0.          0.        ]\n",
            " [-0.08622593 -0.10158911  0.52752725  0.16245324]\n",
            " [ 0.45945929  0.82899345  0.60432935  0.47827513]\n",
            " [ 0.          0.          0.          0.        ]]\n"
          ],
          "name": "stdout"
        }
      ]
    },
    {
      "cell_type": "code",
      "metadata": {
        "id": "H0wFSVHTBmJ8",
        "colab_type": "code",
        "outputId": "18841bbe-fd7b-4d18-9e04-6d77a01ac29c",
        "colab": {
          "base_uri": "https://localhost:8080/",
          "height": 712
        }
      },
      "source": [
        "env.reset()\n",
        "\n",
        "for episode in range(5):\n",
        "    state = env.reset()\n",
        "    step = 0\n",
        "    done = False\n",
        "    print(\"****************************************************\")\n",
        "    print(\"EPISODE \", episode)\n",
        "\n",
        "    for step in range(max_steps):\n",
        "\n",
        "        action = np.argmax(q_table[state,:])\n",
        "        \n",
        "        new_state, reward, done, info = env.step(action)\n",
        "        \n",
        "        if done:\n",
        "            env.render()\n",
        "            print(\"Number of steps\", step)\n",
        "            break\n",
        "        state = new_state\n",
        "env.close()"
      ],
      "execution_count": 12,
      "outputs": [
        {
          "output_type": "stream",
          "text": [
            "****************************************************\n",
            "EPISODE  0\n",
            "  (Down)\n",
            "SFFF\n",
            "FHFH\n",
            "FFFH\n",
            "HFF\u001b[41mG\u001b[0m\n",
            "Number of steps 41\n",
            "****************************************************\n",
            "EPISODE  1\n",
            "  (Down)\n",
            "SFFF\n",
            "FHFH\n",
            "FFFH\n",
            "HFF\u001b[41mG\u001b[0m\n",
            "Number of steps 47\n",
            "****************************************************\n",
            "EPISODE  2\n",
            "  (Down)\n",
            "SFFF\n",
            "FHFH\n",
            "FFFH\n",
            "HFF\u001b[41mG\u001b[0m\n",
            "Number of steps 20\n",
            "****************************************************\n",
            "EPISODE  3\n",
            "  (Down)\n",
            "SFFF\n",
            "FHFH\n",
            "FFFH\n",
            "HFF\u001b[41mG\u001b[0m\n",
            "Number of steps 56\n",
            "****************************************************\n",
            "EPISODE  4\n",
            "  (Down)\n",
            "SFFF\n",
            "FHFH\n",
            "FFFH\n",
            "HFF\u001b[41mG\u001b[0m\n",
            "Number of steps 21\n"
          ],
          "name": "stdout"
        }
      ]
    },
    {
      "cell_type": "code",
      "metadata": {
        "id": "Kx-6VtBiDBOI",
        "colab_type": "code",
        "outputId": "5940cd16-2342-4302-c7af-74f03cac548f",
        "colab": {
          "base_uri": "https://localhost:8080/",
          "height": 52
        }
      },
      "source": [
        "total_reward = 0\n",
        "steps = []\n",
        "\n",
        "for episode in range(100):\n",
        "    state = env.reset()\n",
        "    step = 0\n",
        "    done = False\n",
        "\n",
        "    for step in range(max_steps):\n",
        "        \n",
        "        action = np.argmax(q_table[state,:])\n",
        "        \n",
        "        new_state, reward, done, info = env.step(action)\n",
        "\n",
        "        total_reward += reward\n",
        "        \n",
        "        if done:\n",
        "          if reward > 0:\n",
        "            steps.append(step + 1)\n",
        "          # else:\n",
        "          #   step.append(max_steps + 1)\n",
        "          break\n",
        "        state = new_state\n",
        "env.close()\n",
        "\n",
        "print(f'Successful runs out of 100: {total_reward}')\n",
        "print(f'Average steps: {np.mean(steps)}')"
      ],
      "execution_count": 15,
      "outputs": [
        {
          "output_type": "stream",
          "text": [
            "Successful runs out of 100: 80.0\n",
            "Average steps: 38.25\n"
          ],
          "name": "stdout"
        }
      ]
    }
  ]
}