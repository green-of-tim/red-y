{
  "nbformat": 4,
  "nbformat_minor": 0,
  "metadata": {
    "colab": {
      "name": "Q_tab_var_red_Taxi.ipynb",
      "provenance": [],
      "collapsed_sections": [],
      "authorship_tag": "ABX9TyNK1vmth/s3cA4kGsP2qWoL"
    },
    "kernelspec": {
      "name": "python3",
      "display_name": "Python 3"
    }
  },
  "cells": [
    {
      "cell_type": "code",
      "metadata": {
        "id": "JmpbkvBy_K-t",
        "colab_type": "code",
        "colab": {}
      },
      "source": [
        "import numpy as np\n",
        "import gym\n",
        "import random\n",
        "import matplotlib.pyplot as plt\n",
        "import pandas as pd\n",
        "from google.colab import files"
      ],
      "execution_count": 0,
      "outputs": []
    },
    {
      "cell_type": "code",
      "metadata": {
        "id": "0QU7ywS7_Tft",
        "colab_type": "code",
        "colab": {}
      },
      "source": [
        "env = gym.make(\"Taxi-v3\")\n",
        "action_num = env.action_space.n\n",
        "obs_num = env.observation_space.n"
      ],
      "execution_count": 0,
      "outputs": []
    },
    {
      "cell_type": "code",
      "metadata": {
        "id": "AJ4kal1T_Udp",
        "colab_type": "code",
        "colab": {}
      },
      "source": [
        "# Learning Parameters\n",
        "episodes_num = 30\n",
        "learning_rate = 0.1\n",
        "max_steps = 99\n",
        "discount = 0.95\n",
        "epsilon = 1.0\n",
        "epsilon_min = 0.01\n",
        "epsilon_max = 1.0\n",
        "decay_rate = 0.01\n",
        "\n",
        "recenter_num = 5\n",
        "recenter_ep = 500"
      ],
      "execution_count": 0,
      "outputs": []
    },
    {
      "cell_type": "code",
      "metadata": {
        "id": "BayOrHVl_jED",
        "colab_type": "code",
        "colab": {}
      },
      "source": [
        "q_tables = []\n",
        "for i in range(recenter_num):\n",
        "  q_tables.append(np.zeros((obs_num, action_num)))\n",
        "\n",
        "Q_table = np.zeros((obs_num, action_num))"
      ],
      "execution_count": 0,
      "outputs": []
    },
    {
      "cell_type": "code",
      "metadata": {
        "id": "fOT5o1xvAvfK",
        "colab_type": "code",
        "colab": {}
      },
      "source": [
        "def greedy(eps):\n",
        "  pivot = random.uniform(0, 1)\n",
        "  return pivot > eps"
      ],
      "execution_count": 0,
      "outputs": []
    },
    {
      "cell_type": "code",
      "metadata": {
        "id": "psWYqZYEBllg",
        "colab_type": "code",
        "colab": {}
      },
      "source": [
        "def train_estimates(q_tab, epi_num, eps, l_r, show_steps = False):\n",
        "  # rewards = []\n",
        "  # steps_till_success = []\n",
        "\n",
        "  for episode in range(epi_num):\n",
        "\n",
        "    state = env.reset()\n",
        "    reward = 0\n",
        "    step = 100\n",
        "    done = False\n",
        "    cumul_rewards = 0\n",
        "\n",
        "    for step in range(max_steps):\n",
        "      # env.render()\n",
        "\n",
        "      # Choose an action\n",
        "      if greedy(eps):\n",
        "        action = np.argmax(q_tab[state,:])\n",
        "      else:\n",
        "        action = env.action_space.sample()\n",
        "\n",
        "      # Perform it\n",
        "      new_state, reward, done, _ = env.step(action)\n",
        "\n",
        "      # Update q-table\n",
        "      q_tab[state, action] = q_tab[state, action] + l_r * (reward + \n",
        "                    discount * np.max(q_tab[new_state, :]) - q_tab[state, action])\n",
        "      state = new_state\n",
        "\n",
        "      cumul_rewards += reward\n",
        "\n",
        "      if done == True:\n",
        "        break\n",
        "\n",
        "    # env.render()\n",
        "    # if cumul_rewards < 1:\n",
        "    #   steps_till_success.append(max_steps + 1)\n",
        "    eps = epsilon_min + (epsilon_max - epsilon_min)*np.exp(-decay_rate * episode) \n",
        "    # rewards.append(cumul_rewards)\n",
        "    # print(\"**********************************************************************\")\n",
        "\n",
        "  env.close()\n",
        "\n",
        "  if show_steps == True:\n",
        "    print(f'Average reward:{sum(rewards)/epi_num}')\n",
        "    # print(f'Min step to success: {min(steps_till_success)}')\n",
        "\n",
        "  return q_tab"
      ],
      "execution_count": 0,
      "outputs": []
    },
    {
      "cell_type": "code",
      "metadata": {
        "id": "AFrmy519DZRi",
        "colab_type": "code",
        "colab": {}
      },
      "source": [
        "def train(q_tab, qk_tab, estimate, epi_num, eps, l_r, show_steps = False):\n",
        "\n",
        "  state = env.reset()\n",
        "  reward = 0\n",
        "  step = 100\n",
        "  done = False\n",
        "  cumul_rewards = 0\n",
        "  # env.render()\n",
        "\n",
        "  for stp in range(max_steps):\n",
        "    # Choose an action\n",
        "    if greedy(eps):\n",
        "      action = np.argmax(q_tab[state,:])\n",
        "    else:\n",
        "      action = env.action_space.sample()\n",
        "\n",
        "    # Perform it\n",
        "    new_state, reward, done, _ = env.step(action)\n",
        "\n",
        "    # Update q-table\n",
        "    # l_rate = 1/(1 + (1 - discount) * episode)\n",
        "    q_tab[state, action] = q_tab[state, action] + l_r * (reward + \n",
        "                  discount * np.max(q_tab[new_state, :]) - q_tab[state, action])\n",
        "    state = new_state\n",
        "    cumul_rewards += reward\n",
        "\n",
        "    if done == True:\n",
        "      break\n",
        "\n",
        "  # env.render()\n",
        "  q_tab = q_tab - l_r * (qk_tab + estimate)\n",
        "  eps = epsilon_min + (epsilon_max - epsilon_min)*np.exp(-decay_rate * episode) \n",
        "  # print(\"**********************************************************************\")\n",
        "\n",
        "  env.close()\n",
        "\n",
        "  # print(steps_till_success)\n",
        "  if show_steps == True:\n",
        "    print(f'Average reward:{sum(rewards)/epi_num}')\n",
        "    print(f'Min step to success: {min(steps_till_success)}')\n",
        "\n",
        "  return q_tab, cumul_rewards, eps"
      ],
      "execution_count": 0,
      "outputs": []
    },
    {
      "cell_type": "code",
      "metadata": {
        "id": "dp9uvthyA3u7",
        "colab_type": "code",
        "colab": {}
      },
      "source": [
        "def evaluate_table(Q_table) :\n",
        "\n",
        "  reward_eval_learn = []\n",
        "  steps = []\n",
        "\n",
        "  for episode in range(10):\n",
        "    total_reward = 0\n",
        "    state = env.reset()\n",
        "    step = 0\n",
        "    done = False\n",
        "\n",
        "    for step in range(max_steps):\n",
        "        \n",
        "        action = np.argmax(Q_table[state,:])\n",
        "        \n",
        "        new_state, reward, done, info = env.step(action)\n",
        "\n",
        "        total_reward += reward\n",
        "        \n",
        "        if done:\n",
        "          break\n",
        "        state = new_state\n",
        "\n",
        "    reward_eval_learn.append(total_reward)\n",
        "\n",
        "  env.close()\n",
        "  return np.mean(reward_eval_learn)"
      ],
      "execution_count": 0,
      "outputs": []
    },
    {
      "cell_type": "code",
      "metadata": {
        "id": "SZEB4ISrA7ER",
        "colab_type": "code",
        "outputId": "51297b6e-93d3-4dd7-a62e-24e7e131c7ac",
        "colab": {
          "base_uri": "https://localhost:8080/",
          "height": 1000
        }
      },
      "source": [
        "%%time\n",
        "\n",
        "# steps_till_success = []\n",
        "rewards_learn = []\n",
        "eval_rew = []\n",
        "for episode in range(episodes_num):\n",
        "  l_r = learning_rate / (episode + 1)\n",
        "  step_episode = []\n",
        "  print(\"**********************************************************************\")\n",
        "  print(f'EPISODE {episode + 1}')\n",
        "  # print(Q_table)\n",
        "  q_est = np.zeros((obs_num, action_num))\n",
        "\n",
        "  for i in range(recenter_num):\n",
        "    q_tables[i] = Q_table\n",
        "    q_tables[i] = train_estimates(q_tables[i], recenter_ep, epsilon, l_r, False)\n",
        "\n",
        "  for i in range(recenter_num):\n",
        "    q_est = q_est + q_tables[i]\n",
        "  q_est = q_est / recenter_num\n",
        "\n",
        "  reward_eval = evaluate_table(Q_table)\n",
        "  eval_rew.append(reward_eval)\n",
        "\n",
        "  for i in range(recenter_num):\n",
        "    Q_table, rew, epsilon = train(Q_table, q_tables[i], q_est, epsilon, l_r, False)\n",
        "    reward_eval = evaluate_table(Q_table)\n",
        "    rewards_learn.append(rew)\n",
        "    eval_rew.append(reward_eval)\n",
        "    # success_rate.append(reward_eval)\n",
        "    # steps_till_success.append(step)\n",
        "    # step_episode.append(step)\n",
        "    \n",
        "  # print(step_episode)\n",
        "  # steps_till_success.extend(step_episode)"
      ],
      "execution_count": 31,
      "outputs": [
        {
          "output_type": "stream",
          "text": [
            "**********************************************************************\n",
            "EPISODE 1\n",
            "**********************************************************************\n",
            "EPISODE 2\n",
            "**********************************************************************\n",
            "EPISODE 3\n",
            "**********************************************************************\n",
            "EPISODE 4\n",
            "**********************************************************************\n",
            "EPISODE 5\n",
            "**********************************************************************\n",
            "EPISODE 6\n",
            "**********************************************************************\n",
            "EPISODE 7\n",
            "**********************************************************************\n",
            "EPISODE 8\n",
            "**********************************************************************\n",
            "EPISODE 9\n",
            "**********************************************************************\n",
            "EPISODE 10\n",
            "**********************************************************************\n",
            "EPISODE 11\n",
            "**********************************************************************\n",
            "EPISODE 12\n",
            "**********************************************************************\n",
            "EPISODE 13\n",
            "**********************************************************************\n",
            "EPISODE 14\n",
            "**********************************************************************\n",
            "EPISODE 15\n",
            "**********************************************************************\n",
            "EPISODE 16\n",
            "**********************************************************************\n",
            "EPISODE 17\n",
            "**********************************************************************\n",
            "EPISODE 18\n",
            "**********************************************************************\n",
            "EPISODE 19\n",
            "**********************************************************************\n",
            "EPISODE 20\n",
            "**********************************************************************\n",
            "EPISODE 21\n",
            "**********************************************************************\n",
            "EPISODE 22\n",
            "**********************************************************************\n",
            "EPISODE 23\n",
            "**********************************************************************\n",
            "EPISODE 24\n",
            "**********************************************************************\n",
            "EPISODE 25\n",
            "**********************************************************************\n",
            "EPISODE 26\n",
            "**********************************************************************\n",
            "EPISODE 27\n",
            "**********************************************************************\n",
            "EPISODE 28\n",
            "**********************************************************************\n",
            "EPISODE 29\n",
            "**********************************************************************\n",
            "EPISODE 30\n",
            "CPU times: user 43.2 s, sys: 671 ms, total: 43.9 s\n",
            "Wall time: 43.2 s\n"
          ],
          "name": "stdout"
        }
      ]
    },
    {
      "cell_type": "code",
      "metadata": {
        "id": "bw1t8V7VxhBP",
        "colab_type": "code",
        "outputId": "3d28132e-1e3e-46e3-983c-a09152e3849c",
        "colab": {
          "base_uri": "https://localhost:8080/",
          "height": 544
        }
      },
      "source": [
        "# print(steps_till_success)\n",
        "plt.plot(rewards_learn)\n",
        "plt.xlabel('Sub-episode')\n",
        "plt.ylabel('Learning rewards')\n",
        "plt.show()\n",
        "# print(success_rate)\n",
        "plt.plot(eval_rew)\n",
        "plt.xlabel('Episode')\n",
        "plt.ylabel('Evaluation rewards')\n",
        "plt.show()"
      ],
      "execution_count": 32,
      "outputs": [
        {
          "output_type": "display_data",
          "data": {
            "image/png": "[encoded data removed]",
            "text/plain": [
              "<Figure size 432x288 with 1 Axes>"
            ]
          },
          "metadata": {
            "tags": []
          }
        },
        {
          "output_type": "display_data",
          "data": {
            "image/png": "[encoded data removed]",
            "text/plain": [
              "<Figure size 432x288 with 1 Axes>"
            ]
          },
          "metadata": {
            "tags": []
          }
        }
      ]
    },
    {
      "cell_type": "code",
      "metadata": {
        "id": "GM4_81gsxOAJ",
        "colab_type": "code",
        "outputId": "879e485d-30d0-4d40-95c2-148e729a0969",
        "colab": {
          "base_uri": "https://localhost:8080/",
          "height": 54
        }
      },
      "source": [
        "rewards = []\n",
        "\n",
        "for episode in range(1000):\n",
        "    total_reward = 0\n",
        "    state = env.reset()\n",
        "    step = 0\n",
        "    done = False\n",
        "\n",
        "    for step in range(max_steps):\n",
        "        \n",
        "        action = np.argmax(Q_table[state,:])\n",
        "        \n",
        "        new_state, reward, done, info = env.step(action)\n",
        "\n",
        "        total_reward += reward\n",
        "        \n",
        "        if done:\n",
        "          break\n",
        "        state = new_state\n",
        "      \n",
        "    rewards.append(total_reward)\n",
        "\n",
        "env.close()\n",
        "\n",
        "# print(f'Successful runs out of 1000: {total_reward}')\n",
        "print(f'Average reward: {np.mean(rewards)}')\n",
        "print(np.var(rewards))"
      ],
      "execution_count": 33,
      "outputs": [
        {
          "output_type": "stream",
          "text": [
            "Average reward: 7.945\n",
            "6.563974999999998\n"
          ],
          "name": "stdout"
        }
      ]
    },
    {
      "cell_type": "code",
      "metadata": {
        "id": "qRrPyi0rH6Xp",
        "colab_type": "code",
        "colab": {}
      },
      "source": [
        "df1 = pd.DataFrame()\n",
        "df1['rewards'] = rewards_learn\n",
        "df2 = pd.DataFrame()\n",
        "df2['mean rewards'] = eval_rew\n",
        "df1.to_csv('Q_tab_var_red_Taxiv3_5_30_500_rewards_learn_better.csv')\n",
        "df2.to_csv('Q_tab_var_red_Taxiv3_5_30_500_rewards_eval_better.csv')\n",
        "files.download('Q_tab_var_red_Taxiv3_5_30_500_rewards_learn_better.csv')\n",
        "files.download('Q_tab_var_red_Taxiv3_5_30_500_rewards_eval_better.csv')"
      ],
      "execution_count": 0,
      "outputs": []
    }
  ]
}
