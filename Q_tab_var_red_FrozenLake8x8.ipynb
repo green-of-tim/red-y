{
  "nbformat": 4,
  "nbformat_minor": 0,
  "metadata": {
    "colab": {
      "name": "Q_tab_var_red_FrozenLake8x8.ipynb",
      "provenance": [],
      "collapsed_sections": [],
      "authorship_tag": "ABX9TyOoZGJxpUOxSp5f6zc+WmQt"
    },
    "kernelspec": {
      "name": "python3",
      "display_name": "Python 3"
    }
  },
  "cells": [
    {
      "cell_type": "code",
      "metadata": {
        "id": "JmpbkvBy_K-t",
        "colab_type": "code",
        "colab": {}
      },
      "source": [
        "import numpy as np\n",
        "import gym\n",
        "import random\n",
        "import matplotlib.pyplot as plt\n",
        "import pandas as pd\n",
        "from google.colab import files"
      ],
      "execution_count": 0,
      "outputs": []
    },
    {
      "cell_type": "code",
      "metadata": {
        "id": "0QU7ywS7_Tft",
        "colab_type": "code",
        "colab": {}
      },
      "source": [
        "env = gym.make(\"FrozenLake8x8-v0\")\n",
        "action_num = env.action_space.n\n",
        "obs_num = env.observation_space.n"
      ],
      "execution_count": 0,
      "outputs": []
    },
    {
      "cell_type": "code",
      "metadata": {
        "id": "AJ4kal1T_Udp",
        "colab_type": "code",
        "colab": {}
      },
      "source": [
        "# Learning Parameters\n",
        "episodes_num = 30\n",
        "learning_rate = 0.1\n",
        "max_steps = 299\n",
        "discount = 0.96\n",
        "epsilon = 1.0\n",
        "epsilon_min = 0.1\n",
        "epsilon_max = 1.0\n",
        "decay_rate = 0.001\n",
        "\n",
        "recenter_num = 5\n",
        "recenter_ep = 500"
      ],
      "execution_count": 0,
      "outputs": []
    },
    {
      "cell_type": "code",
      "metadata": {
        "id": "BayOrHVl_jED",
        "colab_type": "code",
        "colab": {}
      },
      "source": [
        "q_tables = []\n",
        "for i in range(recenter_num):\n",
        "  q_tables.append(np.zeros((obs_num, action_num)))\n",
        "\n",
        "Q_table = np.zeros((obs_num, action_num))"
      ],
      "execution_count": 0,
      "outputs": []
    },
    {
      "cell_type": "code",
      "metadata": {
        "id": "fOT5o1xvAvfK",
        "colab_type": "code",
        "colab": {}
      },
      "source": [
        "def greedy(eps):\n",
        "  pivot = random.uniform(0, 1)\n",
        "  return pivot > eps"
      ],
      "execution_count": 0,
      "outputs": []
    },
    {
      "cell_type": "code",
      "metadata": {
        "id": "psWYqZYEBllg",
        "colab_type": "code",
        "colab": {}
      },
      "source": [
        "def train_estimates(q_tab, epi_num, eps, l_r, show_steps = False):\n",
        "  # rewards = []\n",
        "  # steps_till_success = []\n",
        "\n",
        "  for episode in range(epi_num):\n",
        "\n",
        "    state = env.reset()\n",
        "    reward = 0\n",
        "    step = 300\n",
        "    done = False\n",
        "    cumul_rewards = 0\n",
        "\n",
        "    for step in range(max_steps):\n",
        "      # env.render()\n",
        "\n",
        "      # Choose an action\n",
        "      if greedy(eps):\n",
        "        action = np.argmax(q_tab[state,:])\n",
        "      else:\n",
        "        action = env.action_space.sample()\n",
        "\n",
        "      # Perform it\n",
        "      new_state, reward, done, _ = env.step(action)\n",
        "\n",
        "      if reward == 0 and done == True:\n",
        "        reward = -1\n",
        "      elif done == False:\n",
        "        reward = 0\n",
        "      else:\n",
        "        reward = 1\n",
        "\n",
        "      # Update q-table\n",
        "      q_tab[state, action] = q_tab[state, action] + l_r * (reward + \n",
        "                    discount * np.max(q_tab[new_state, :]) - q_tab[state, action])\n",
        "      state = new_state\n",
        "\n",
        "      cumul_rewards += reward\n",
        "      if reward > 0:\n",
        "        steps_till_success.append(step + 1)\n",
        "\n",
        "      if done == True:\n",
        "        break\n",
        "\n",
        "    # env.render()\n",
        "    # if cumul_rewards < 1:\n",
        "    #   steps_till_success.append(max_steps + 1)\n",
        "    eps = epsilon_min + (epsilon_max - epsilon_min)*np.exp(-decay_rate * episode) \n",
        "    # rewards.append(cumul_rewards)\n",
        "    # print(\"**********************************************************************\")\n",
        "\n",
        "  env.close()\n",
        "\n",
        "  if show_steps == True:\n",
        "    print(f'Average reward:{sum(rewards)/epi_num}')\n",
        "    print(f'Min step to success: {min(steps_till_success)}')\n",
        "\n",
        "  return q_tab"
      ],
      "execution_count": 0,
      "outputs": []
    },
    {
      "cell_type": "code",
      "metadata": {
        "id": "AFrmy519DZRi",
        "colab_type": "code",
        "colab": {}
      },
      "source": [
        "def train(q_tab, qk_tab, estimate, epi_num, eps, l_r, show_steps = False):\n",
        "\n",
        "  state = env.reset()\n",
        "  reward = 0\n",
        "  step = 300\n",
        "  done = False\n",
        "  cumul_rewards = 0\n",
        "  # env.render()\n",
        "\n",
        "  for stp in range(max_steps):\n",
        "    # Choose an action\n",
        "    if greedy(eps):\n",
        "      action = np.argmax(q_tab[state,:])\n",
        "    else:\n",
        "      action = env.action_space.sample()\n",
        "\n",
        "    # Perform it\n",
        "    new_state, reward, done, _ = env.step(action)\n",
        "\n",
        "    if reward == 0 and done == True:\n",
        "      reward = -1\n",
        "    elif done == False:\n",
        "      reward = 0\n",
        "    else:\n",
        "      reward = 1\n",
        "\n",
        "    # Update q-table\n",
        "    # l_rate = 1/(1 + (1 - discount) * episode)\n",
        "    q_tab[state, action] = q_tab[state, action] + l_r * (reward + \n",
        "                  discount * np.max(q_tab[new_state, :]) - q_tab[state, action])\n",
        "    state = new_state\n",
        "\n",
        "    if reward > 0:\n",
        "       step = stp\n",
        "\n",
        "    if done == True:\n",
        "      break\n",
        "\n",
        "  # env.render()\n",
        "  q_tab = q_tab - qk_tab + estimate\n",
        "  eps = epsilon_min + (epsilon_max - epsilon_min)*np.exp(-decay_rate * episode) \n",
        "  # print(\"**********************************************************************\")\n",
        "\n",
        "  env.close()\n",
        "\n",
        "  # print(steps_till_success)\n",
        "  if show_steps == True:\n",
        "    print(f'Average reward:{sum(rewards)/epi_num}')\n",
        "    print(f'Min step to success: {min(steps_till_success)}')\n",
        "\n",
        "  return q_tab, step, eps"
      ],
      "execution_count": 0,
      "outputs": []
    },
    {
      "cell_type": "code",
      "metadata": {
        "id": "dp9uvthyA3u7",
        "colab_type": "code",
        "colab": {}
      },
      "source": [
        "def evaluate_table(Q_table) :\n",
        "\n",
        "  total_reward = 0\n",
        "  steps = []\n",
        "\n",
        "  for episode in range(10):\n",
        "    state = env.reset()\n",
        "    step = 0\n",
        "    done = False\n",
        "\n",
        "    for step in range(max_steps):\n",
        "        \n",
        "        action = np.argmax(Q_table[state,:])\n",
        "        \n",
        "        new_state, reward, done, info = env.step(action)\n",
        "\n",
        "        total_reward += reward\n",
        "        \n",
        "        if done:\n",
        "          if reward > 0:\n",
        "            steps.append(step + 1)\n",
        "          # else:\n",
        "          #   step.append(max_steps + 1)\n",
        "          break\n",
        "        state = new_state\n",
        "  env.close()\n",
        "  return total_reward / 10, np.mean(steps)"
      ],
      "execution_count": 0,
      "outputs": []
    },
    {
      "cell_type": "code",
      "metadata": {
        "id": "SZEB4ISrA7ER",
        "colab_type": "code",
        "outputId": "4d1fba90-f028-404a-8f80-87dc6d8d2f39",
        "colab": {
          "base_uri": "https://localhost:8080/",
          "height": 1000
        }
      },
      "source": [
        "%%time\n",
        "\n",
        "steps_till_success = []\n",
        "success_rate = []\n",
        "for episode in range(episodes_num):\n",
        "  l_r = learning_rate / (episode + 1)\n",
        "  step_episode = []\n",
        "  print(\"**********************************************************************\")\n",
        "  print(f'EPISODE {episode + 1}')\n",
        "  # print(Q_table)\n",
        "  q_est = np.zeros((obs_num, action_num))\n",
        "\n",
        "  for i in range(recenter_num):\n",
        "    q_tables[i] = Q_table\n",
        "    q_tables[i] = train_estimates(q_tables[i], recenter_ep, epsilon, l_r, False)\n",
        "\n",
        "  for i in range(recenter_num):\n",
        "    q_est = q_est + q_tables[i]\n",
        "  q_est = q_est / recenter_num\n",
        "\n",
        "  rate, step = evaluate_table(Q_table)\n",
        "  success_rate.append(rate)\n",
        "  steps_till_success.append(step)\n",
        "\n",
        "  for i in range(recenter_num):\n",
        "    Q_table, step, epsilon = train(Q_table, q_tables[i], q_est, epsilon, l_r, False)\n",
        "    rate, step = evaluate_table(Q_table)\n",
        "    success_rate.append(rate)\n",
        "    steps_till_success.append(step)\n",
        "    # step_episode.append(step)\n",
        "    \n",
        "  # print(step_episode)\n",
        "  # steps_till_success.extend(step_episode)"
      ],
      "execution_count": 111,
      "outputs": [
        {
          "output_type": "stream",
          "text": [
            "**********************************************************************\n",
            "EPISODE 1\n",
            "**********************************************************************\n",
            "EPISODE 2\n",
            "**********************************************************************\n",
            "EPISODE 3\n",
            "**********************************************************************\n",
            "EPISODE 4\n",
            "**********************************************************************\n",
            "EPISODE 5\n",
            "**********************************************************************\n",
            "EPISODE 6\n",
            "**********************************************************************\n",
            "EPISODE 7\n",
            "**********************************************************************\n",
            "EPISODE 8\n",
            "**********************************************************************\n",
            "EPISODE 9\n",
            "**********************************************************************\n",
            "EPISODE 10\n",
            "**********************************************************************\n",
            "EPISODE 11\n",
            "**********************************************************************\n",
            "EPISODE 12\n",
            "**********************************************************************\n",
            "EPISODE 13\n",
            "**********************************************************************\n",
            "EPISODE 14\n",
            "**********************************************************************\n",
            "EPISODE 15\n",
            "**********************************************************************\n",
            "EPISODE 16\n",
            "**********************************************************************\n",
            "EPISODE 17\n",
            "**********************************************************************\n",
            "EPISODE 18\n",
            "**********************************************************************\n",
            "EPISODE 19\n",
            "**********************************************************************\n",
            "EPISODE 20\n",
            "**********************************************************************\n",
            "EPISODE 21\n",
            "**********************************************************************\n",
            "EPISODE 22\n",
            "**********************************************************************\n",
            "EPISODE 23\n",
            "**********************************************************************\n",
            "EPISODE 24\n",
            "**********************************************************************\n",
            "EPISODE 25\n",
            "**********************************************************************\n",
            "EPISODE 26\n",
            "**********************************************************************\n",
            "EPISODE 27\n",
            "**********************************************************************\n",
            "EPISODE 28\n",
            "**********************************************************************\n",
            "EPISODE 29\n",
            "**********************************************************************\n",
            "EPISODE 30\n",
            "CPU times: user 1min 18s, sys: 439 ms, total: 1min 19s\n",
            "Wall time: 1min 18s\n"
          ],
          "name": "stdout"
        }
      ]
    },
    {
      "cell_type": "code",
      "metadata": {
        "id": "bw1t8V7VxhBP",
        "colab_type": "code",
        "colab": {
          "base_uri": "https://localhost:8080/",
          "height": 541
        },
        "outputId": "b647610e-a6d1-4d9c-f92f-fdf57a822f15"
      },
      "source": [
        "# print(steps_till_success)\n",
        "plt.plot(steps_till_success)\n",
        "plt.xlabel('Sub-episode')\n",
        "plt.ylabel('Steps until success')\n",
        "plt.show()\n",
        "# print(success_rate)\n",
        "plt.plot(success_rate)\n",
        "plt.xlabel('Episode')\n",
        "plt.ylabel('Success rate')\n",
        "plt.show()"
      ],
      "execution_count": 112,
      "outputs": [
        {
          "output_type": "display_data",
          "data": {
            "image/png": "[encoded data removed]",
            "text/plain": [
              "<Figure size 432x288 with 1 Axes>"
            ]
          },
          "metadata": {
            "tags": []
          }
        },
        {
          "output_type": "display_data",
          "data": {
            "image/png": "[encoded data removed]",
            "text/plain": [
              "<Figure size 432x288 with 1 Axes>"
            ]
          },
          "metadata": {
            "tags": []
          }
        }
      ]
    },
    {
      "cell_type": "code",
      "metadata": {
        "id": "GM4_81gsxOAJ",
        "colab_type": "code",
        "outputId": "5a36eaf2-7be5-4274-df40-8fa5d8fe298c",
        "colab": {
          "base_uri": "https://localhost:8080/",
          "height": 72
        }
      },
      "source": [
        "total_reward = 0\n",
        "steps = []\n",
        "\n",
        "for episode in range(1000):\n",
        "    state = env.reset()\n",
        "    step = 0\n",
        "    done = False\n",
        "\n",
        "    for step in range(max_steps):\n",
        "        \n",
        "        action = np.argmax(Q_table[state,:])\n",
        "        \n",
        "        new_state, reward, done, info = env.step(action)\n",
        "\n",
        "        total_reward += reward\n",
        "        \n",
        "        if done:\n",
        "          if reward > 0:\n",
        "            steps.append(step + 1)\n",
        "          # else:\n",
        "          #   step.append(max_steps + 1)\n",
        "          break\n",
        "        state = new_state\n",
        "env.close()\n",
        "\n",
        "print(f'Successful runs out of 1000: {total_reward}')\n",
        "print(f'Average steps: {np.mean(steps)}')\n",
        "print(np.var(steps))"
      ],
      "execution_count": 113,
      "outputs": [
        {
          "output_type": "stream",
          "text": [
            "Successful runs out of 1000: 886.0\n",
            "Average steps: 84.37358916478556\n",
            "1444.267880345887\n"
          ],
          "name": "stdout"
        }
      ]
    },
    {
      "cell_type": "code",
      "metadata": {
        "id": "qRrPyi0rH6Xp",
        "colab_type": "code",
        "colab": {}
      },
      "source": [
        "df1 = pd.DataFrame()\n",
        "df1['steps'] = steps_till_success\n",
        "df2 = pd.DataFrame()\n",
        "df2['success_rate'] = success_rate\n",
        "df1.to_csv('Q_tab_var_red_FL8x8_100_30_steps.csv')\n",
        "df2.to_csv('Q_tab_var_red_FL8x8_100_30_rates.csv')\n",
        "files.download(r'Q_tab_var_red_FL8x8_100_30_steps.csv')\n",
        "files.download('Q_tab_var_red_FL8x8_100_30_rates.csv')"
      ],
      "execution_count": 0,
      "outputs": []
    }
  ]
}