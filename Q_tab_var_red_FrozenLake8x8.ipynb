{
  "nbformat": 4,
  "nbformat_minor": 0,
  "metadata": {
    "colab": {
      "name": "Q_tab_var_red_FrozenLake8x8.ipynb",
      "provenance": [],
      "collapsed_sections": [],
      "authorship_tag": "ABX9TyMbGxGcuQdSVIJyMgLh28yf"
    },
    "kernelspec": {
      "name": "python3",
      "display_name": "Python 3"
    }
  },
  "cells": [
    {
      "cell_type": "code",
      "metadata": {
        "id": "JmpbkvBy_K-t",
        "colab_type": "code",
        "colab": {}
      },
      "source": [
        "import numpy as np\n",
        "import gym\n",
        "import random\n",
        "import matplotlib.pyplot as plt"
      ],
      "execution_count": 0,
      "outputs": []
    },
    {
      "cell_type": "code",
      "metadata": {
        "id": "0QU7ywS7_Tft",
        "colab_type": "code",
        "colab": {}
      },
      "source": [
        "env = gym.make(\"FrozenLake8x8-v0\")\n",
        "action_num = env.action_space.n\n",
        "obs_num = env.observation_space.n"
      ],
      "execution_count": 0,
      "outputs": []
    },
    {
      "cell_type": "code",
      "metadata": {
        "id": "AJ4kal1T_Udp",
        "colab_type": "code",
        "colab": {}
      },
      "source": [
        "# Learning Parameters\n",
        "episodes_num = 30\n",
        "learning_rate = 0.1\n",
        "max_steps = 299\n",
        "discount = 0.96\n",
        "epsilon = 1.0\n",
        "epsilon_min = 0.1\n",
        "epsilon_max = 1.0\n",
        "decay_rate = 0.001\n",
        "\n",
        "recenter_num = 100\n",
        "recenter_ep = 500"
      ],
      "execution_count": 0,
      "outputs": []
    },
    {
      "cell_type": "code",
      "metadata": {
        "id": "BayOrHVl_jED",
        "colab_type": "code",
        "colab": {}
      },
      "source": [
        "q_tables = []\n",
        "for i in range(recenter_num):\n",
        "  q_tables.append(np.zeros((obs_num, action_num)))\n",
        "\n",
        "Q_table = np.zeros((obs_num, action_num))"
      ],
      "execution_count": 0,
      "outputs": []
    },
    {
      "cell_type": "code",
      "metadata": {
        "id": "fOT5o1xvAvfK",
        "colab_type": "code",
        "colab": {}
      },
      "source": [
        "def greedy(eps):\n",
        "  pivot = random.uniform(0, 1)\n",
        "  return pivot > eps"
      ],
      "execution_count": 0,
      "outputs": []
    },
    {
      "cell_type": "code",
      "metadata": {
        "id": "psWYqZYEBllg",
        "colab_type": "code",
        "colab": {}
      },
      "source": [
        "def train_estimates(q_tab, epi_num, eps, l_r, show_steps = False):\n",
        "  # rewards = []\n",
        "  # steps_till_success = []\n",
        "\n",
        "  for episode in range(epi_num):\n",
        "\n",
        "    state = env.reset()\n",
        "    reward = 0\n",
        "    step = 300\n",
        "    done = False\n",
        "    cumul_rewards = 0\n",
        "\n",
        "    for step in range(max_steps):\n",
        "      # env.render()\n",
        "\n",
        "      # Choose an action\n",
        "      if greedy(eps):\n",
        "        action = np.argmax(q_tab[state,:])\n",
        "      else:\n",
        "        action = env.action_space.sample()\n",
        "\n",
        "      # Perform it\n",
        "      new_state, reward, done, _ = env.step(action)\n",
        "\n",
        "      if reward == 0 and done == True:\n",
        "        reward = -1\n",
        "      elif done == False:\n",
        "        reward = 0\n",
        "      else:\n",
        "        reward = 1\n",
        "\n",
        "      # Update q-table\n",
        "      q_tab[state, action] = q_tab[state, action] + l_r * (reward + \n",
        "                    discount * np.max(q_tab[new_state, :]) - q_tab[state, action])\n",
        "      state = new_state\n",
        "\n",
        "      cumul_rewards += reward\n",
        "      if reward > 0:\n",
        "        steps_till_success.append(step + 1)\n",
        "\n",
        "      if done == True:\n",
        "        break\n",
        "\n",
        "    # env.render()\n",
        "    # if cumul_rewards < 1:\n",
        "    #   steps_till_success.append(max_steps + 1)\n",
        "    eps = epsilon_min + (epsilon_max - epsilon_min)*np.exp(-decay_rate * episode) \n",
        "    # rewards.append(cumul_rewards)\n",
        "    # print(\"**********************************************************************\")\n",
        "\n",
        "  env.close()\n",
        "\n",
        "  if show_steps == True:\n",
        "    print(f'Average reward:{sum(rewards)/epi_num}')\n",
        "    print(f'Min step to success: {min(steps_till_success)}')\n",
        "\n",
        "  return q_tab"
      ],
      "execution_count": 0,
      "outputs": []
    },
    {
      "cell_type": "code",
      "metadata": {
        "id": "AFrmy519DZRi",
        "colab_type": "code",
        "colab": {}
      },
      "source": [
        "def train(q_tab, qk_tab, estimate, epi_num, eps, l_r, show_steps = False):\n",
        "\n",
        "  state = env.reset()\n",
        "  reward = 0\n",
        "  step = 300\n",
        "  done = False\n",
        "  cumul_rewards = 0\n",
        "  # env.render()\n",
        "\n",
        "  for stp in range(max_steps):\n",
        "    # Choose an action\n",
        "    if greedy(eps):\n",
        "      action = np.argmax(q_tab[state,:])\n",
        "    else:\n",
        "      action = env.action_space.sample()\n",
        "\n",
        "    # Perform it\n",
        "    new_state, reward, done, _ = env.step(action)\n",
        "\n",
        "    if reward == 0 and done == True:\n",
        "      reward = -1\n",
        "    elif done == False:\n",
        "      reward = 0\n",
        "    else:\n",
        "      reward = 1\n",
        "\n",
        "    # Update q-table\n",
        "    # l_rate = 1/(1 + (1 - discount) * episode)\n",
        "    q_tab[state, action] = q_tab[state, action] + l_r * (reward + \n",
        "                  discount * np.max(q_tab[new_state, :]) - q_tab[state, action])\n",
        "    state = new_state\n",
        "\n",
        "    if reward > 0:\n",
        "       step = stp\n",
        "\n",
        "    if done == True:\n",
        "      break\n",
        "\n",
        "  # env.render()\n",
        "  q_tab = q_tab - qk_tab + estimate\n",
        "  eps = epsilon_min + (epsilon_max - epsilon_min)*np.exp(-decay_rate * episode) \n",
        "  # print(\"**********************************************************************\")\n",
        "\n",
        "  env.close()\n",
        "\n",
        "  # print(steps_till_success)\n",
        "  if show_steps == True:\n",
        "    print(f'Average reward:{sum(rewards)/epi_num}')\n",
        "    print(f'Min step to success: {min(steps_till_success)}')\n",
        "\n",
        "  return q_tab, step, eps"
      ],
      "execution_count": 0,
      "outputs": []
    },
    {
      "cell_type": "code",
      "metadata": {
        "id": "SZEB4ISrA7ER",
        "colab_type": "code",
        "outputId": "f4debd93-0066-4c38-82c5-99454aef7c68",
        "colab": {
          "base_uri": "https://localhost:8080/",
          "height": 1000
        }
      },
      "source": [
        "steps_till_success = []\n",
        "for episode in range(episodes_num):\n",
        "  l_r = learning_rate / (episode + 1)\n",
        "  step_episode = []\n",
        "  print(\"**********************************************************************\")\n",
        "  print(f'EPISODE {episode + 1}')\n",
        "  # print(Q_table)\n",
        "  q_est = np.zeros((obs_num, action_num))\n",
        "\n",
        "  for i in range(recenter_num):\n",
        "    q_tables[i] = Q_table\n",
        "    q_tables[i] = train_estimates(q_tables[i], recenter_ep, epsilon, l_r, False)\n",
        "\n",
        "  for i in range(recenter_num):\n",
        "    q_est = q_est + q_tables[i]\n",
        "  q_est = q_est / recenter_num\n",
        "\n",
        "  for i in range(recenter_num):\n",
        "    Q_table, step, epsilon = train(Q_table, q_tables[i], q_est, epsilon, l_r, False)\n",
        "    step_episode.append(step)\n",
        "    \n",
        "  print(step_episode)\n",
        "  steps_till_success.extend(step_episode)"
      ],
      "execution_count": 20,
      "outputs": [
        {
          "output_type": "stream",
          "text": [
            "**********************************************************************\n",
            "EPISODE 1\n",
            "[96, 71, 82, 152, 300, 81, 300, 300, 300, 300, 300, 165, 93, 300, 300, 300, 89, 300, 300, 86, 56, 300, 105, 73, 52, 300, 300, 55, 300, 300, 300, 94, 300, 60, 124, 133, 46, 300, 300, 95, 134, 111, 48, 300, 300, 163, 85, 88, 300, 300, 169, 42, 138, 300, 300, 126, 300, 59, 300, 105, 77, 300, 300, 300, 189, 300, 139, 300, 36, 300, 44, 33, 184, 300, 153, 300, 300, 300, 49, 94, 107, 300, 300, 300, 41, 110, 300, 300, 73, 93, 300, 300, 66, 300, 150, 45, 300, 49, 300, 97]\n",
            "**********************************************************************\n",
            "EPISODE 2\n",
            "[126, 89, 158, 300, 69, 90, 47, 174, 158, 52, 99, 300, 76, 100, 52, 105, 300, 88, 82, 110, 60, 300, 79, 300, 300, 300, 159, 61, 38, 167, 52, 300, 98, 300, 164, 300, 140, 300, 80, 300, 78, 68, 300, 300, 178, 300, 107, 300, 300, 128, 300, 41, 300, 137, 47, 73, 57, 40, 54, 92, 180, 300, 300, 300, 300, 82, 300, 127, 103, 116, 79, 98, 300, 68, 71, 140, 86, 142, 83, 300, 300, 66, 49, 300, 129, 34, 300, 103, 76, 46, 135, 73, 106, 79, 300, 186, 300, 300, 68, 300]\n",
            "**********************************************************************\n",
            "EPISODE 3\n",
            "[55, 32, 164, 51, 127, 101, 176, 49, 300, 300, 99, 104, 300, 70, 82, 300, 165, 51, 117, 83, 153, 152, 300, 95, 62, 59, 52, 50, 31, 300, 74, 107, 300, 108, 50, 127, 300, 300, 138, 57, 142, 128, 300, 162, 56, 300, 300, 94, 300, 300, 59, 25, 133, 74, 300, 73, 84, 300, 300, 32, 300, 300, 57, 69, 40, 193, 103, 77, 108, 300, 91, 300, 300, 130, 300, 45, 99, 169, 174, 70, 300, 106, 100, 300, 51, 300, 86, 300, 300, 300, 300, 100, 55, 139, 99, 37, 114, 50, 64, 63]\n",
            "**********************************************************************\n",
            "EPISODE 4\n",
            "[111, 98, 68, 50, 48, 50, 78, 300, 74, 127, 65, 66, 83, 137, 300, 44, 77, 300, 31, 96, 90, 300, 31, 31, 300, 58, 66, 133, 58, 77, 300, 300, 75, 300, 111, 54, 156, 78, 181, 108, 300, 300, 300, 124, 76, 69, 102, 156, 300, 30, 79, 96, 300, 32, 127, 300, 48, 65, 118, 69, 83, 72, 41, 167, 300, 124, 163, 64, 90, 76, 300, 108, 300, 98, 47, 49, 92, 61, 192, 70, 113, 139, 300, 37, 56, 131, 300, 79, 300, 70, 65, 300, 74, 300, 51, 121, 300, 115, 102, 300]\n",
            "**********************************************************************\n",
            "EPISODE 5\n",
            "[300, 138, 189, 167, 50, 135, 61, 43, 64, 89, 53, 300, 81, 95, 127, 95, 19, 300, 113, 35, 57, 171, 38, 16, 300, 300, 300, 95, 91, 35, 74, 117, 70, 51, 85, 300, 32, 300, 83, 121, 103, 90, 182, 37, 73, 37, 49, 300, 64, 43, 143, 300, 63, 66, 191, 49, 170, 129, 87, 87, 177, 70, 56, 64, 300, 134, 84, 65, 36, 300, 300, 57, 101, 130, 300, 87, 67, 35, 300, 86, 30, 40, 300, 53, 95, 300, 55, 71, 92, 136, 69, 103, 39, 81, 300, 300, 68, 300, 95, 66]\n",
            "**********************************************************************\n",
            "EPISODE 6\n",
            "[38, 149, 95, 105, 28, 77, 138, 300, 106, 69, 37, 56, 59, 46, 150, 300, 86, 70, 55, 300, 80, 36, 97, 75, 59, 300, 66, 60, 300, 82, 196, 83, 300, 300, 82, 58, 123, 300, 126, 68, 160, 67, 300, 300, 300, 80, 61, 300, 300, 54, 30, 55, 170, 145, 154, 52, 127, 199, 76, 42, 127, 63, 300, 36, 117, 300, 87, 300, 66, 82, 154, 31, 46, 194, 38, 177, 63, 300, 300, 300, 108, 102, 61, 61, 113, 74, 62, 119, 68, 139, 103, 178, 117, 56, 60, 79, 165, 300, 49, 300]\n",
            "**********************************************************************\n",
            "EPISODE 7\n",
            "[29, 300, 129, 55, 76, 36, 25, 27, 113, 85, 76, 45, 109, 300, 62, 300, 92, 51, 48, 22, 173, 77, 188, 158, 55, 123, 113, 300, 53, 300, 63, 118, 88, 30, 98, 300, 56, 112, 51, 71, 37, 64, 90, 79, 59, 116, 33, 146, 40, 106, 300, 90, 91, 69, 130, 153, 33, 122, 73, 300, 30, 63, 86, 72, 300, 86, 300, 300, 55, 108, 142, 94, 83, 76, 28, 133, 41, 300, 60, 28, 300, 300, 77, 163, 66, 101, 300, 86, 300, 61, 117, 188, 111, 300, 79, 92, 300, 109, 72, 48]\n",
            "**********************************************************************\n",
            "EPISODE 8\n",
            "[88, 76, 156, 86, 53, 57, 32, 154, 95, 300, 97, 39, 69, 300, 52, 35, 25, 191, 28, 36, 180, 300, 54, 181, 300, 75, 46, 53, 179, 155, 300, 300, 46, 96, 61, 83, 69, 97, 138, 145, 33, 100, 181, 300, 82, 93, 77, 105, 65, 300, 126, 49, 124, 66, 87, 141, 103, 104, 300, 93, 91, 102, 123, 125, 143, 148, 300, 300, 51, 300, 300, 146, 156, 160, 77, 300, 30, 29, 37, 76, 61, 98, 300, 115, 88, 300, 136, 46, 46, 95, 197, 101, 72, 106, 105, 67, 300, 61, 87, 84]\n",
            "**********************************************************************\n",
            "EPISODE 9\n",
            "[60, 44, 300, 178, 99, 63, 29, 138, 114, 121, 43, 107, 66, 69, 48, 94, 88, 24, 97, 300, 300, 56, 155, 98, 68, 164, 21, 50, 122, 126, 74, 300, 49, 300, 159, 46, 300, 107, 48, 300, 58, 120, 122, 173, 70, 69, 300, 78, 98, 300, 58, 52, 300, 300, 63, 80, 300, 51, 61, 62, 160, 62, 111, 72, 106, 52, 70, 17, 58, 165, 56, 48, 145, 74, 38, 53, 129, 300, 55, 64, 300, 60, 103, 21, 102, 62, 64, 73, 126, 56, 66, 60, 38, 146, 82, 300, 164, 300, 300, 167]\n",
            "**********************************************************************\n",
            "EPISODE 10\n",
            "[75, 45, 96, 86, 37, 31, 53, 30, 56, 76, 136, 93, 34, 108, 96, 52, 96, 66, 55, 300, 41, 104, 89, 125, 80, 88, 89, 43, 43, 108, 87, 129, 46, 136, 44, 110, 108, 36, 300, 41, 30, 72, 82, 130, 73, 90, 101, 69, 178, 300, 79, 79, 83, 80, 117, 83, 76, 70, 145, 54, 45, 300, 300, 59, 41, 107, 153, 139, 155, 170, 133, 27, 300, 26, 37, 300, 112, 164, 37, 35, 40, 95, 59, 95, 73, 42, 108, 35, 121, 81, 38, 70, 45, 101, 79, 41, 39, 129, 88, 66]\n",
            "**********************************************************************\n",
            "EPISODE 11\n",
            "[300, 105, 41, 300, 130, 63, 72, 31, 50, 151, 19, 97, 70, 66, 60, 125, 38, 86, 151, 54, 100, 95, 63, 141, 300, 112, 31, 300, 35, 300, 97, 83, 70, 57, 100, 300, 116, 86, 96, 98, 65, 57, 75, 300, 300, 66, 300, 53, 33, 148, 94, 110, 103, 86, 66, 300, 300, 59, 29, 154, 37, 134, 160, 118, 300, 300, 85, 300, 300, 104, 300, 300, 135, 141, 87, 85, 300, 42, 71, 95, 72, 56, 37, 42, 83, 65, 52, 47, 300, 300, 53, 139, 67, 35, 152, 111, 129, 42, 69, 84]\n",
            "**********************************************************************\n",
            "EPISODE 12\n",
            "[26, 57, 121, 97, 300, 65, 101, 65, 185, 154, 130, 40, 120, 116, 98, 77, 170, 300, 300, 59, 89, 86, 85, 300, 168, 38, 184, 90, 54, 46, 80, 44, 77, 76, 86, 45, 60, 69, 26, 70, 73, 89, 56, 44, 300, 37, 300, 59, 300, 47, 68, 36, 71, 28, 300, 128, 53, 171, 32, 87, 103, 77, 122, 143, 113, 76, 78, 97, 56, 300, 80, 63, 58, 31, 154, 81, 58, 60, 47, 82, 78, 88, 41, 300, 154, 109, 41, 300, 122, 75, 52, 300, 300, 84, 97, 54, 55, 83, 174, 178]\n",
            "**********************************************************************\n",
            "EPISODE 13\n",
            "[36, 37, 73, 86, 57, 119, 300, 55, 300, 26, 300, 84, 300, 139, 44, 300, 40, 86, 68, 46, 87, 167, 70, 66, 102, 60, 300, 46, 36, 111, 64, 45, 73, 34, 50, 300, 58, 52, 66, 92, 117, 73, 30, 300, 73, 180, 71, 94, 69, 39, 138, 124, 51, 36, 42, 46, 56, 300, 100, 57, 70, 55, 60, 111, 148, 176, 300, 137, 300, 196, 43, 300, 34, 53, 113, 32, 135, 52, 90, 99, 166, 300, 148, 33, 68, 61, 106, 300, 122, 46, 300, 193, 48, 300, 44, 61, 63, 88, 300, 23]\n",
            "**********************************************************************\n",
            "EPISODE 14\n",
            "[300, 42, 54, 53, 179, 300, 300, 53, 80, 64, 300, 72, 77, 59, 76, 84, 43, 184, 54, 34, 300, 300, 69, 61, 77, 57, 84, 72, 82, 63, 100, 47, 104, 71, 96, 82, 31, 98, 300, 103, 75, 55, 48, 300, 105, 189, 154, 300, 36, 76, 40, 171, 134, 106, 300, 43, 138, 175, 102, 103, 72, 65, 124, 88, 119, 63, 88, 76, 65, 300, 101, 111, 62, 33, 48, 132, 300, 66, 29, 79, 63, 82, 118, 300, 102, 300, 108, 56, 113, 41, 29, 195, 98, 67, 47, 82, 86, 146, 146, 123]\n",
            "**********************************************************************\n",
            "EPISODE 15\n",
            "[65, 103, 62, 98, 115, 82, 137, 46, 75, 42, 102, 300, 76, 300, 86, 63, 89, 106, 108, 42, 300, 80, 86, 113, 57, 115, 300, 199, 71, 59, 56, 300, 46, 91, 42, 89, 300, 148, 40, 116, 67, 118, 300, 85, 55, 37, 127, 300, 59, 164, 51, 300, 74, 27, 71, 69, 30, 76, 108, 66, 37, 111, 56, 67, 43, 199, 148, 60, 300, 300, 300, 32, 72, 30, 77, 300, 164, 187, 50, 65, 67, 31, 49, 300, 55, 79, 62, 300, 33, 67, 115, 85, 104, 300, 62, 95, 110, 69, 80, 36]\n",
            "**********************************************************************\n",
            "EPISODE 16\n",
            "[76, 46, 57, 181, 56, 79, 93, 45, 124, 61, 48, 59, 84, 37, 49, 53, 188, 71, 94, 52, 44, 57, 95, 113, 43, 43, 300, 100, 300, 58, 95, 51, 79, 35, 69, 61, 300, 112, 94, 300, 93, 114, 300, 65, 61, 93, 109, 144, 57, 300, 300, 67, 66, 55, 123, 300, 111, 73, 56, 69, 47, 300, 58, 300, 108, 38, 124, 67, 159, 300, 104, 164, 61, 92, 55, 73, 87, 44, 33, 69, 108, 53, 79, 105, 31, 73, 45, 166, 48, 34, 103, 147, 300, 83, 84, 81, 143, 24, 100, 57]\n",
            "**********************************************************************\n",
            "EPISODE 17\n",
            "[80, 101, 72, 102, 300, 177, 60, 46, 47, 86, 75, 73, 103, 73, 300, 153, 66, 300, 300, 67, 107, 138, 56, 79, 146, 112, 29, 42, 300, 48, 117, 95, 83, 300, 300, 143, 54, 60, 44, 300, 78, 186, 35, 61, 64, 59, 106, 300, 142, 68, 31, 43, 54, 28, 132, 48, 61, 57, 300, 123, 159, 300, 138, 37, 110, 64, 62, 74, 114, 64, 32, 71, 46, 300, 85, 55, 64, 39, 90, 52, 46, 53, 44, 156, 77, 131, 66, 128, 116, 118, 300, 40, 119, 38, 172, 71, 300, 39, 300, 60]\n",
            "**********************************************************************\n",
            "EPISODE 18\n",
            "[163, 86, 48, 300, 91, 76, 300, 55, 300, 46, 59, 71, 78, 41, 105, 300, 134, 57, 27, 68, 155, 109, 82, 300, 300, 300, 32, 87, 41, 91, 116, 161, 40, 58, 98, 135, 59, 87, 300, 124, 146, 37, 73, 75, 84, 118, 300, 90, 300, 39, 42, 37, 29, 97, 300, 67, 29, 104, 63, 42, 133, 102, 72, 57, 53, 55, 118, 78, 69, 151, 300, 46, 97, 60, 126, 66, 64, 70, 73, 99, 153, 48, 64, 95, 102, 73, 61, 34, 75, 97, 300, 29, 109, 300, 60, 74, 59, 89, 148, 70]\n",
            "**********************************************************************\n",
            "EPISODE 19\n",
            "[82, 60, 94, 62, 29, 41, 47, 53, 86, 73, 40, 82, 71, 300, 27, 42, 79, 112, 103, 157, 300, 120, 101, 60, 108, 31, 125, 41, 40, 66, 70, 59, 300, 63, 100, 53, 21, 114, 165, 95, 77, 300, 82, 83, 54, 91, 54, 65, 84, 53, 300, 164, 188, 30, 168, 68, 78, 154, 166, 32, 67, 53, 77, 80, 58, 144, 61, 48, 137, 100, 35, 37, 300, 111, 91, 300, 102, 70, 97, 19, 70, 99, 74, 48, 88, 45, 54, 37, 40, 46, 88, 55, 43, 37, 79, 142, 189, 58, 52, 193]\n",
            "**********************************************************************\n",
            "EPISODE 20\n",
            "[41, 35, 300, 300, 133, 300, 38, 68, 84, 114, 59, 48, 48, 116, 77, 56, 50, 300, 112, 107, 39, 81, 55, 133, 62, 48, 50, 96, 81, 64, 59, 161, 77, 300, 80, 300, 105, 67, 300, 55, 118, 35, 96, 182, 81, 300, 104, 300, 300, 68, 300, 74, 87, 90, 94, 65, 38, 114, 92, 44, 300, 169, 300, 78, 98, 144, 114, 88, 300, 32, 29, 71, 46, 91, 76, 81, 58, 136, 154, 300, 100, 87, 63, 57, 146, 115, 49, 28, 63, 26, 300, 112, 47, 86, 50, 300, 55, 56, 77, 99]\n",
            "**********************************************************************\n",
            "EPISODE 21\n",
            "[72, 48, 124, 151, 148, 300, 33, 56, 105, 57, 55, 300, 41, 74, 168, 300, 300, 86, 300, 121, 130, 70, 105, 63, 109, 191, 89, 66, 41, 28, 47, 162, 40, 61, 78, 66, 49, 144, 32, 43, 39, 300, 78, 65, 59, 51, 115, 175, 114, 36, 93, 81, 80, 125, 76, 79, 300, 300, 96, 100, 69, 300, 181, 300, 117, 101, 300, 89, 17, 118, 169, 191, 33, 88, 142, 93, 80, 57, 52, 300, 134, 97, 179, 183, 73, 61, 65, 133, 141, 61, 31, 94, 76, 137, 99, 300, 93, 300, 37, 54]\n",
            "**********************************************************************\n",
            "EPISODE 22\n",
            "[300, 73, 300, 52, 54, 43, 300, 113, 126, 23, 100, 49, 65, 199, 98, 177, 86, 56, 98, 67, 59, 112, 109, 300, 300, 122, 75, 120, 78, 67, 105, 51, 46, 113, 300, 33, 183, 100, 300, 184, 66, 300, 300, 105, 55, 50, 35, 107, 49, 147, 68, 134, 31, 300, 39, 150, 56, 162, 300, 111, 73, 63, 68, 83, 70, 73, 141, 197, 164, 65, 300, 168, 93, 95, 86, 78, 95, 107, 93, 138, 139, 57, 81, 118, 83, 300, 75, 63, 61, 58, 121, 300, 81, 64, 83, 97, 36, 117, 43, 60]\n",
            "**********************************************************************\n",
            "EPISODE 23\n",
            "[109, 300, 143, 50, 300, 49, 31, 67, 102, 57, 84, 57, 52, 300, 53, 136, 60, 300, 150, 49, 108, 75, 40, 100, 66, 300, 300, 153, 56, 66, 300, 300, 35, 81, 300, 86, 158, 115, 52, 64, 130, 50, 56, 53, 40, 300, 300, 157, 144, 165, 91, 98, 56, 53, 67, 69, 86, 192, 118, 27, 49, 300, 116, 25, 95, 48, 21, 116, 193, 43, 92, 300, 49, 54, 83, 54, 300, 59, 300, 61, 300, 97, 47, 51, 72, 84, 87, 300, 130, 57, 69, 75, 136, 49, 40, 110, 47, 77, 45, 131]\n",
            "**********************************************************************\n",
            "EPISODE 24\n",
            "[300, 73, 129, 40, 40, 131, 81, 25, 47, 53, 110, 35, 124, 41, 300, 300, 300, 38, 300, 57, 168, 60, 89, 300, 68, 44, 146, 48, 67, 63, 300, 52, 43, 86, 164, 51, 124, 118, 57, 48, 65, 25, 88, 99, 136, 300, 108, 151, 42, 44, 85, 300, 148, 54, 105, 45, 161, 63, 104, 51, 300, 34, 75, 81, 79, 68, 80, 34, 127, 55, 71, 78, 91, 49, 84, 83, 55, 42, 18, 66, 300, 56, 47, 46, 80, 79, 168, 40, 95, 61, 35, 106, 31, 171, 165, 38, 107, 62, 300, 64]\n",
            "**********************************************************************\n",
            "EPISODE 25\n",
            "[129, 35, 126, 91, 90, 77, 300, 300, 29, 87, 89, 300, 115, 105, 152, 50, 98, 300, 300, 79, 64, 300, 116, 103, 145, 120, 131, 77, 193, 63, 34, 41, 106, 61, 113, 111, 300, 300, 35, 45, 300, 116, 174, 72, 183, 300, 98, 45, 34, 89, 76, 36, 91, 157, 60, 40, 65, 150, 162, 83, 149, 106, 118, 42, 109, 300, 48, 52, 107, 43, 47, 170, 60, 300, 98, 136, 88, 47, 79, 55, 105, 40, 174, 66, 139, 53, 38, 91, 46, 96, 25, 29, 68, 37, 82, 72, 300, 71, 54, 182]\n",
            "**********************************************************************\n",
            "EPISODE 26\n",
            "[40, 98, 58, 115, 30, 57, 125, 300, 43, 300, 51, 300, 83, 45, 182, 48, 69, 52, 99, 67, 300, 38, 117, 73, 300, 122, 106, 57, 82, 300, 37, 65, 154, 62, 170, 300, 127, 95, 54, 300, 52, 140, 124, 300, 93, 87, 75, 300, 83, 87, 36, 163, 70, 60, 134, 40, 55, 82, 88, 300, 41, 47, 68, 48, 83, 99, 32, 96, 47, 105, 75, 98, 63, 86, 92, 54, 107, 73, 89, 300, 26, 300, 101, 78, 300, 22, 83, 300, 53, 86, 107, 66, 56, 78, 105, 61, 64, 46, 37, 36]\n",
            "**********************************************************************\n",
            "EPISODE 27\n",
            "[30, 101, 67, 62, 60, 126, 184, 140, 58, 93, 82, 24, 45, 48, 69, 98, 72, 82, 25, 118, 49, 104, 98, 45, 102, 300, 60, 198, 79, 55, 135, 95, 156, 66, 98, 53, 300, 55, 96, 300, 142, 66, 300, 60, 106, 140, 68, 300, 48, 50, 100, 124, 99, 85, 62, 64, 98, 128, 300, 58, 121, 79, 67, 89, 300, 132, 300, 47, 300, 69, 36, 43, 300, 73, 90, 63, 153, 300, 88, 103, 300, 95, 188, 126, 86, 102, 71, 66, 96, 42, 111, 100, 164, 85, 85, 42, 75, 82, 70, 41]\n",
            "**********************************************************************\n",
            "EPISODE 28\n",
            "[34, 82, 102, 91, 108, 80, 67, 197, 31, 121, 45, 300, 77, 157, 144, 64, 31, 173, 121, 84, 67, 49, 49, 137, 126, 300, 44, 37, 129, 80, 52, 180, 32, 35, 300, 106, 115, 300, 68, 300, 34, 56, 95, 41, 61, 300, 102, 84, 69, 18, 300, 105, 93, 63, 70, 96, 91, 52, 69, 64, 105, 85, 57, 79, 36, 300, 50, 46, 62, 130, 87, 160, 23, 136, 45, 56, 300, 81, 300, 42, 300, 77, 138, 79, 23, 300, 43, 59, 51, 44, 82, 38, 76, 122, 300, 82, 190, 62, 135, 100]\n",
            "**********************************************************************\n",
            "EPISODE 29\n",
            "[98, 95, 50, 46, 57, 112, 24, 55, 300, 64, 62, 84, 196, 59, 122, 71, 66, 110, 76, 93, 68, 300, 79, 99, 300, 51, 137, 25, 300, 126, 132, 45, 127, 43, 300, 118, 133, 124, 108, 300, 38, 124, 35, 69, 35, 40, 63, 48, 159, 94, 31, 44, 35, 79, 82, 19, 300, 54, 49, 192, 169, 65, 90, 62, 81, 168, 197, 42, 64, 104, 98, 52, 86, 80, 65, 157, 23, 93, 47, 84, 58, 133, 43, 300, 74, 28, 58, 42, 60, 44, 169, 64, 126, 73, 80, 106, 300, 48, 68, 71]\n",
            "**********************************************************************\n",
            "EPISODE 30\n",
            "[48, 196, 56, 300, 34, 91, 111, 117, 125, 76, 59, 134, 140, 71, 174, 66, 35, 60, 90, 128, 82, 51, 300, 117, 88, 36, 108, 132, 154, 300, 58, 49, 126, 70, 99, 106, 69, 160, 300, 103, 57, 60, 300, 165, 65, 69, 39, 56, 52, 59, 124, 90, 44, 36, 85, 49, 141, 30, 79, 155, 300, 132, 300, 300, 70, 108, 300, 28, 36, 51, 300, 300, 55, 300, 75, 113, 33, 93, 300, 72, 300, 110, 126, 116, 85, 141, 128, 74, 24, 300, 104, 126, 300, 61, 134, 34, 300, 67, 110, 113]\n"
          ],
          "name": "stdout"
        }
      ]
    },
    {
      "cell_type": "code",
      "metadata": {
        "id": "bw1t8V7VxhBP",
        "colab_type": "code",
        "outputId": "8eeb33c1-9255-4a38-e68b-56164063a8c0",
        "colab": {
          "base_uri": "https://localhost:8080/",
          "height": 279
        }
      },
      "source": [
        "plt.plot(steps_till_success[-2001:-1])\n",
        "plt.xlabel('Episode')\n",
        "plt.ylabel('Steps until success')\n",
        "plt.show()"
      ],
      "execution_count": 22,
      "outputs": [
        {
          "output_type": "display_data",
          "data": {
            "image/png": "[encoded data removed]",
            "text/plain": [
              "<Figure size 432x288 with 1 Axes>"
            ]
          },
          "metadata": {
            "tags": []
          }
        }
      ]
    },
    {
      "cell_type": "code",
      "metadata": {
        "id": "GM4_81gsxOAJ",
        "colab_type": "code",
        "outputId": "ce61cd77-3b82-4261-f515-b6ebf3f6c45d",
        "colab": {
          "base_uri": "https://localhost:8080/",
          "height": 69
        }
      },
      "source": [
        "total_reward = 0\n",
        "steps = []\n",
        "\n",
        "for episode in range(1000):\n",
        "    state = env.reset()\n",
        "    step = 0\n",
        "    done = False\n",
        "\n",
        "    for step in range(max_steps):\n",
        "        \n",
        "        action = np.argmax(Q_table[state,:])\n",
        "        \n",
        "        new_state, reward, done, info = env.step(action)\n",
        "\n",
        "        total_reward += reward\n",
        "        \n",
        "        if done:\n",
        "          if reward > 0:\n",
        "            steps.append(step + 1)\n",
        "          # else:\n",
        "          #   step.append(max_steps + 1)\n",
        "          break\n",
        "        state = new_state\n",
        "env.close()\n",
        "\n",
        "print(f'Successful runs out of 100: {total_reward}')\n",
        "print(f'Average steps: {np.mean(steps)}')\n",
        "print(np.var(steps))"
      ],
      "execution_count": 26,
      "outputs": [
        {
          "output_type": "stream",
          "text": [
            "Successful runs out of 100: 870.0\n",
            "Average steps: 82.16091954022988\n",
            "1466.7718060509976\n"
          ],
          "name": "stdout"
        }
      ]
    }
  ]
}