{
  "nbformat": 4,
  "nbformat_minor": 0,
  "metadata": {
    "colab": {
      "name": "Q_tabular_FrozenLake8x8_v0.ipynb",
      "provenance": [],
      "collapsed_sections": [],
      "authorship_tag": "ABX9TyMB29iUdugwjOPV4gjMsCDH"
    },
    "kernelspec": {
      "name": "python3",
      "display_name": "Python 3"
    }
  },
  "cells": [
    {
      "cell_type": "code",
      "metadata": {
        "id": "4iuLDhY7zk5t",
        "colab_type": "code",
        "colab": {}
      },
      "source": [
        "import numpy as np\n",
        "import gym\n",
        "import random\n",
        "import matplotlib.pyplot as plt"
      ],
      "execution_count": 0,
      "outputs": []
    },
    {
      "cell_type": "code",
      "metadata": {
        "id": "eWBIEmDwzs_Y",
        "colab_type": "code",
        "colab": {}
      },
      "source": [
        "env = gym.make(\"FrozenLake8x8-v0\")\n",
        "action_num = env.action_space.n\n",
        "obs_num = env.observation_space.n"
      ],
      "execution_count": 0,
      "outputs": []
    },
    {
      "cell_type": "code",
      "metadata": {
        "id": "ehHSfY_a0D3A",
        "colab_type": "code",
        "colab": {}
      },
      "source": [
        "# Learning Parameters\n",
        "episodes_num = 30000\n",
        "learning_rate = 0.1\n",
        "max_steps = 299\n",
        "discount = 0.96\n",
        "epsilon = 1.0\n",
        "epsilon_min = 0.1\n",
        "epsilon_max = 1.0\n",
        "decay_rate = 0.0005"
      ],
      "execution_count": 0,
      "outputs": []
    },
    {
      "cell_type": "code",
      "metadata": {
        "id": "wdf_mdDx3kHN",
        "colab_type": "code",
        "colab": {}
      },
      "source": [
        "q_table = np.zeros((obs_num, action_num))"
      ],
      "execution_count": 0,
      "outputs": []
    },
    {
      "cell_type": "code",
      "metadata": {
        "id": "g7t5dH9G4wbo",
        "colab_type": "code",
        "colab": {}
      },
      "source": [
        "def greedy(eps):\n",
        "  pivot = random.uniform(0, 1)\n",
        "  return pivot > eps"
      ],
      "execution_count": 0,
      "outputs": []
    },
    {
      "cell_type": "code",
      "metadata": {
        "id": "9yZ8Ot5M0Jcj",
        "colab_type": "code",
        "outputId": "e74b800a-48bd-488d-c22f-9fac277faf69",
        "colab": {
          "base_uri": "https://localhost:8080/",
          "height": 52
        }
      },
      "source": [
        "rewards = []\n",
        "steps_till_success = []\n",
        "\n",
        "for episode in range(episodes_num):\n",
        "  state = env.reset()\n",
        "  reward = 0\n",
        "  step = 0\n",
        "  done = False\n",
        "  cumul_rewards = 0\n",
        "\n",
        "  for step in range(max_steps):\n",
        "    # env.render()\n",
        "\n",
        "    # Choose an action\n",
        "    if greedy(epsilon):\n",
        "      action = np.argmax(q_table[state,:])\n",
        "    else:\n",
        "      action = env.action_space.sample()\n",
        "\n",
        "    # Perform it\n",
        "    new_state, reward, done, _ = env.step(action)\n",
        "\n",
        "    if reward == 0 and done == True:\n",
        "      reward = -1\n",
        "    elif done == False:\n",
        "      reward = 0\n",
        "    else:\n",
        "      reward = 1\n",
        "\n",
        "    # Update q-table\n",
        "    q_table[state, action] = q_table[state, action] + learning_rate * (reward + \n",
        "                  discount * np.max(q_table[new_state, :]) - q_table[state, action])\n",
        "    state = new_state\n",
        "\n",
        "    cumul_rewards += reward\n",
        "    if reward > 0:\n",
        "      steps_till_success.append(step + 1)\n",
        "\n",
        "    if done == True:\n",
        "      break\n",
        "\n",
        "  # env.render()\n",
        "  if cumul_rewards < 1:\n",
        "    steps_till_success.append(max_steps + 1)\n",
        "  epsilon = epsilon_min + (epsilon_max - epsilon_min)*np.exp(-decay_rate * episode) \n",
        "  if episode % 1000 == 0:\n",
        "    learning_rate = learning_rate / 2\n",
        "  rewards.append(cumul_rewards)\n",
        "  # print(\"**********************************************************************\")\n",
        "\n",
        "env.close()\n",
        "print(f'Average reward:{sum(rewards)/episodes_num}')\n",
        "print(f'Min step to success: {min(steps_till_success)}')"
      ],
      "execution_count": 28,
      "outputs": [
        {
          "output_type": "stream",
          "text": [
            "Average reward:-0.36946666666666667\n",
            "Min step to success: 17\n"
          ],
          "name": "stdout"
        }
      ]
    },
    {
      "cell_type": "code",
      "metadata": {
        "id": "YwNiQMNx7228",
        "colab_type": "code",
        "outputId": "314d259a-84c5-479b-c036-4f4b11a5c902",
        "colab": {
          "base_uri": "https://localhost:8080/",
          "height": 279
        }
      },
      "source": [
        "plt.plot(steps_till_success)\n",
        "plt.xlabel('Episode')\n",
        "plt.ylabel('Steps until success')\n",
        "plt.show()"
      ],
      "execution_count": 29,
      "outputs": [
        {
          "output_type": "display_data",
          "data": {
            "image/png": "[encoded data removed]",
            "text/plain": [
              "<Figure size 432x288 with 1 Axes>"
            ]
          },
          "metadata": {
            "tags": []
          }
        }
      ]
    },
    {
      "cell_type": "code",
      "metadata": {
        "id": "2Wt_lIkhKwt1",
        "colab_type": "code",
        "outputId": "7ce94404-a431-46c3-d719-b2df2ee0dd23",
        "colab": {
          "base_uri": "https://localhost:8080/",
          "height": 279
        }
      },
      "source": [
        "plt.plot(steps_till_success[-2001:-1])\n",
        "plt.xlabel('Episode')\n",
        "plt.ylabel('Steps until success')\n",
        "plt.show()"
      ],
      "execution_count": 30,
      "outputs": [
        {
          "output_type": "display_data",
          "data": {
            "image/png": "[encoded data removed]",
            "text/plain": [
              "<Figure size 432x288 with 1 Axes>"
            ]
          },
          "metadata": {
            "tags": []
          }
        }
      ]
    },
    {
      "cell_type": "code",
      "metadata": {
        "id": "182Ok7tp_p9z",
        "colab_type": "code",
        "outputId": "ad4cb486-fe3b-49a1-d4a9-f1b563d17123",
        "colab": {
          "base_uri": "https://localhost:8080/",
          "height": 1000
        }
      },
      "source": [
        "print(q_table)"
      ],
      "execution_count": 31,
      "outputs": [
        {
          "output_type": "stream",
          "text": [
            "[[ 1.27582335e-03  9.54421213e-04  5.31834595e-03  1.56728507e-03]\n",
            " [ 5.33320054e-04  7.20719261e-03  1.39080335e-03  1.27264401e-03]\n",
            " [ 2.82206950e-03  3.76951715e-03  1.24133554e-02  4.20062437e-03]\n",
            " [ 3.62347106e-03  3.18318651e-03  6.12323306e-03  1.84043861e-02]\n",
            " [ 5.83338252e-03  5.36908176e-03  3.06589605e-02  4.00395322e-03]\n",
            " [ 1.15578915e-02  1.21802889e-02  4.73033691e-02  1.12107247e-02]\n",
            " [ 3.42765272e-02  3.48419159e-02  6.66501976e-02  3.31632985e-02]\n",
            " [ 6.85637058e-02  3.06905517e-02  3.06750706e-02  2.74935842e-02]\n",
            " [ 2.40944158e-04  2.97977630e-04  3.06769829e-04  5.14556899e-03]\n",
            " [-5.90207631e-03 -6.43526701e-03 -5.60377927e-03  6.65658529e-03]\n",
            " [-1.88554539e-02 -1.92388219e-02 -1.43434770e-02  1.01447422e-02]\n",
            " [-3.21375932e-01 -3.08902315e-01 -3.16236758e-01  1.48536060e-02]\n",
            " [-1.97188761e-02 -1.48556529e-02 -1.50760192e-02  2.52978524e-02]\n",
            " [ 1.81813246e-03  7.10961964e-03  4.37340809e-02  1.22002958e-02]\n",
            " [ 3.88879046e-02  4.38410734e-02  7.91796231e-02  3.75798505e-02]\n",
            " [ 5.40392251e-02  8.76569361e-02  5.59253037e-02  4.82532253e-02]\n",
            " [ 3.83787460e-04 -7.93375917e-03 -8.22819666e-03 -7.41464492e-03]\n",
            " [-2.01906481e-02 -3.69858371e-02 -3.79146374e-02 -2.19036695e-02]\n",
            " [-6.59045447e-02 -3.82483891e-01 -3.76845914e-01 -3.27493331e-01]\n",
            " [ 0.00000000e+00  0.00000000e+00  0.00000000e+00  0.00000000e+00]\n",
            " [-3.74284231e-01 -3.56479575e-01 -4.85784812e-02 -2.98812389e-01]\n",
            " [-3.97958866e-01 -3.40409273e-01 -3.11062587e-01  2.47627507e-02]\n",
            " [ 3.85411748e-02  4.12259356e-02  9.76123296e-02  3.50196499e-02]\n",
            " [ 1.11887953e-01  7.83336904e-02  7.57330894e-02  5.71931642e-02]\n",
            " [-1.43087746e-03 -2.12202666e-02 -2.07004713e-02 -2.13982884e-02]\n",
            " [-7.08878360e-02 -1.03707107e-01 -1.01912744e-01 -6.54678081e-02]\n",
            " [-1.88197576e-01 -2.71389902e-01 -2.95586769e-01 -1.86583223e-01]\n",
            " [-6.21615307e-01 -4.87881120e-01 -7.05596089e-01 -4.61750378e-01]\n",
            " [-1.85013561e-01 -4.36969112e-01 -3.96618001e-01 -4.06621767e-01]\n",
            " [ 0.00000000e+00  0.00000000e+00  0.00000000e+00  0.00000000e+00]\n",
            " [-3.40970524e-01 -2.59605676e-01  1.18515035e-01 -3.68080164e-01]\n",
            " [ 9.72184732e-02  1.12777083e-01  1.70085376e-01  7.61802404e-02]\n",
            " [-2.21886109e-03 -5.74241218e-02 -4.78108112e-02 -4.26702986e-02]\n",
            " [-3.17345807e-01 -4.98764583e-01 -4.92218796e-01 -1.71478571e-01]\n",
            " [-4.44630189e-01 -6.97619572e-01 -7.59741089e-01 -4.60208349e-01]\n",
            " [ 0.00000000e+00  0.00000000e+00  0.00000000e+00  0.00000000e+00]\n",
            " [-2.08459610e-01 -2.31756016e-01 -8.74667953e-02 -1.58411201e-01]\n",
            " [-2.26885863e-01 -1.77140071e-02 -2.46880596e-01 -2.69439097e-01]\n",
            " [-3.16357570e-01 -2.55507288e-01 -2.99109896e-01  1.12492823e-01]\n",
            " [ 1.66893561e-01  2.57087917e-01  2.00225369e-01  1.16561283e-01]\n",
            " [-3.77331452e-03 -3.39718912e-01 -3.15468653e-01 -3.66694820e-01]\n",
            " [ 0.00000000e+00  0.00000000e+00  0.00000000e+00  0.00000000e+00]\n",
            " [ 0.00000000e+00  0.00000000e+00  0.00000000e+00  0.00000000e+00]\n",
            " [-2.01196315e-01 -2.01196315e-01 -2.01196315e-01 -2.01196315e-01]\n",
            " [-1.53653139e-01 -1.68715865e-01 -1.30345745e-01 -9.50265627e-02]\n",
            " [-8.31076193e-02 -1.59581511e-01 -1.89517455e-01 -1.38360188e-01]\n",
            " [ 0.00000000e+00  0.00000000e+00  0.00000000e+00  0.00000000e+00]\n",
            " [-1.17676873e-01 -4.63904005e-02  4.41787081e-01 -1.40352954e-01]\n",
            " [-2.57548917e-03 -3.83664158e-01 -3.16254327e-01 -3.07299475e-01]\n",
            " [ 0.00000000e+00  0.00000000e+00  0.00000000e+00  0.00000000e+00]\n",
            " [-1.11404519e-01 -1.11404519e-01 -1.11404519e-01 -1.11404520e-01]\n",
            " [-1.35130248e-01 -1.35130248e-01 -1.35130248e-01 -1.35130248e-01]\n",
            " [ 0.00000000e+00  0.00000000e+00  0.00000000e+00  0.00000000e+00]\n",
            " [-1.94868959e-01 -2.02161773e-01 -1.94868959e-01 -1.94868959e-01]\n",
            " [ 0.00000000e+00  0.00000000e+00  0.00000000e+00  0.00000000e+00]\n",
            " [ 1.27353747e-03 -6.21769129e-03  6.93805160e-01 -1.62426402e-02]\n",
            " [-8.91744547e-04 -8.91746379e-04 -1.12337490e-03 -9.90358260e-04]\n",
            " [-2.88990486e-01 -1.03077368e-02 -1.60377104e-01 -1.45914119e-01]\n",
            " [-2.21177789e-02 -1.17306377e-01 -1.28051103e-01 -2.21294042e-01]\n",
            " [ 0.00000000e+00  0.00000000e+00  0.00000000e+00  0.00000000e+00]\n",
            " [-7.01665157e-02 -7.01665156e-02 -7.01665156e-02 -7.01665156e-02]\n",
            " [-2.93082757e-03  1.04207522e-02  7.50714830e-05 -3.23497928e-03]\n",
            " [-4.04805681e-03  1.44280872e-01  1.05167050e-03  1.06554686e-03]\n",
            " [ 0.00000000e+00  0.00000000e+00  0.00000000e+00  0.00000000e+00]]\n"
          ],
          "name": "stdout"
        }
      ]
    },
    {
      "cell_type": "code",
      "metadata": {
        "id": "H0wFSVHTBmJ8",
        "colab_type": "code",
        "outputId": "f6cff174-a1d1-45e6-979f-7bb4c3d39e84",
        "colab": {
          "base_uri": "https://localhost:8080/",
          "height": 1000
        }
      },
      "source": [
        "env.reset()\n",
        "\n",
        "for episode in range(5):\n",
        "    state = env.reset()\n",
        "    step = 0\n",
        "    done = False\n",
        "    print(\"****************************************************\")\n",
        "    print(\"EPISODE \", episode)\n",
        "\n",
        "    for step in range(max_steps):\n",
        "\n",
        "        action = np.argmax(q_table[state,:])\n",
        "        \n",
        "        new_state, reward, done, info = env.step(action)\n",
        "        \n",
        "        if done:\n",
        "            env.render()\n",
        "            print(\"Number of steps\", step)\n",
        "            break\n",
        "        state = new_state\n",
        "env.close()"
      ],
      "execution_count": 33,
      "outputs": [
        {
          "output_type": "stream",
          "text": [
            "****************************************************\n",
            "EPISODE  0\n",
            "  (Right)\n",
            "SFFFFFFF\n",
            "FFFFFFFF\n",
            "FFFHFFFF\n",
            "FFFFFHFF\n",
            "FFFHFFFF\n",
            "FHHFFFHF\n",
            "FHFFHFHF\n",
            "FFFHFFF\u001b[41mG\u001b[0m\n",
            "Number of steps 86\n",
            "****************************************************\n",
            "EPISODE  1\n",
            "  (Right)\n",
            "SFFFFFFF\n",
            "FFFFFFFF\n",
            "FFFHFFFF\n",
            "FFFFFHFF\n",
            "FFFHFFFF\n",
            "FHHFFFHF\n",
            "FHFFHFHF\n",
            "FFFHFFF\u001b[41mG\u001b[0m\n",
            "Number of steps 71\n",
            "****************************************************\n",
            "EPISODE  2\n",
            "  (Down)\n",
            "SFFFFFFF\n",
            "FFFFFFFF\n",
            "FFFHFFFF\n",
            "FFFFFHFF\n",
            "FFFHFFFF\n",
            "FH\u001b[41mH\u001b[0mFFFHF\n",
            "FHFFHFHF\n",
            "FFFHFFFG\n",
            "Number of steps 155\n",
            "****************************************************\n",
            "EPISODE  3\n",
            "  (Down)\n",
            "SFFFFFFF\n",
            "FFFFFFFF\n",
            "FFFHFFFF\n",
            "FFFFFHFF\n",
            "FFFHFFFF\n",
            "FHHFFFHF\n",
            "FHFFHFHF\n",
            "FFF\u001b[41mH\u001b[0mFFFG\n",
            "Number of steps 118\n",
            "****************************************************\n",
            "EPISODE  4\n",
            "  (Right)\n",
            "SFFFFFFF\n",
            "FFFFFFFF\n",
            "FFFHFFFF\n",
            "FFFFFHFF\n",
            "FFFHFFFF\n",
            "FHHFFFHF\n",
            "FHFFHFHF\n",
            "FFFHFFF\u001b[41mG\u001b[0m\n",
            "Number of steps 61\n"
          ],
          "name": "stdout"
        }
      ]
    },
    {
      "cell_type": "code",
      "metadata": {
        "id": "Kx-6VtBiDBOI",
        "colab_type": "code",
        "outputId": "fc54385c-75d8-4d76-90e2-c369039506a5",
        "colab": {
          "base_uri": "https://localhost:8080/",
          "height": 69
        }
      },
      "source": [
        "total_reward = 0\n",
        "steps = []\n",
        "\n",
        "for episode in range(1000):\n",
        "    state = env.reset()\n",
        "    step = 0\n",
        "    done = False\n",
        "\n",
        "    for step in range(max_steps):\n",
        "        \n",
        "        action = np.argmax(q_table[state,:])\n",
        "        \n",
        "        new_state, reward, done, info = env.step(action)\n",
        "\n",
        "        total_reward += reward\n",
        "        \n",
        "        if done:\n",
        "          if reward > 0:\n",
        "            steps.append(step + 1)\n",
        "          # else:\n",
        "          #   step.append(max_steps + 1)\n",
        "          break\n",
        "        state = new_state\n",
        "env.close()\n",
        "\n",
        "print(f'Successful runs out of 100: {total_reward}')\n",
        "print(f'Average steps: {np.mean(steps)}')\n",
        "print(np.var(steps))"
      ],
      "execution_count": 35,
      "outputs": [
        {
          "output_type": "stream",
          "text": [
            "Successful runs out of 100: 606.0\n",
            "Average steps: 84.41419141914191\n",
            "1521.5825708808504\n"
          ],
          "name": "stdout"
        }
      ]
    }
  ]
}