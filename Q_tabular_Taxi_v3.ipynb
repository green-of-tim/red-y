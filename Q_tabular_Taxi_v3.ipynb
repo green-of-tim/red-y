{
  "nbformat": 4,
  "nbformat_minor": 0,
  "metadata": {
    "colab": {
      "name": "Q_tabular_Taxi_v3.ipynb",
      "provenance": [],
      "collapsed_sections": [],
      "authorship_tag": "ABX9TyOnaRyxvdaNvZePs/LYHCRc"
    },
    "kernelspec": {
      "name": "python3",
      "display_name": "Python 3"
    }
  },
  "cells": [
    {
      "cell_type": "code",
      "metadata": {
        "id": "4iuLDhY7zk5t",
        "colab_type": "code",
        "colab": {}
      },
      "source": [
        "import numpy as np\n",
        "import gym\n",
        "import random\n",
        "import matplotlib.pyplot as plt\n",
        "import pandas as pd\n",
        "from google.colab import files"
      ],
      "execution_count": 0,
      "outputs": []
    },
    {
      "cell_type": "code",
      "metadata": {
        "id": "eWBIEmDwzs_Y",
        "colab_type": "code",
        "colab": {}
      },
      "source": [
        "env = gym.make(\"Taxi-v3\")\n",
        "action_num = env.action_space.n\n",
        "obs_num = env.observation_space.n"
      ],
      "execution_count": 0,
      "outputs": []
    },
    {
      "cell_type": "code",
      "metadata": {
        "id": "ehHSfY_a0D3A",
        "colab_type": "code",
        "colab": {}
      },
      "source": [
        "# Learning Parameters\n",
        "episodes_num = 50000\n",
        "learning_rate = 0.1\n",
        "max_steps = 299\n",
        "discount = 0.92\n",
        "epsilon = 1.0\n",
        "epsilon_min = 0.1\n",
        "epsilon_max = 1.0\n",
        "decay_rate = 0.001"
      ],
      "execution_count": 0,
      "outputs": []
    },
    {
      "cell_type": "code",
      "metadata": {
        "id": "wdf_mdDx3kHN",
        "colab_type": "code",
        "colab": {}
      },
      "source": [
        "q_table = np.zeros((obs_num, action_num))"
      ],
      "execution_count": 0,
      "outputs": []
    },
    {
      "cell_type": "code",
      "metadata": {
        "id": "g7t5dH9G4wbo",
        "colab_type": "code",
        "colab": {}
      },
      "source": [
        "def greedy(eps):\n",
        "  pivot = random.uniform(0, 1)\n",
        "  return pivot > eps"
      ],
      "execution_count": 0,
      "outputs": []
    },
    {
      "cell_type": "code",
      "metadata": {
        "id": "9yZ8Ot5M0Jcj",
        "colab_type": "code",
        "outputId": "99c8031d-3fea-49f6-c60e-a9dd37e6055a",
        "colab": {
          "base_uri": "https://localhost:8080/",
          "height": 92
        }
      },
      "source": [
        "%%time\n",
        "\n",
        "rewards = []\n",
        "steps_till_success = []\n",
        "\n",
        "for episode in range(episodes_num):\n",
        "  state = env.reset()\n",
        "  reward = 0\n",
        "  step = 0\n",
        "  done = False\n",
        "  cumul_rewards = 0\n",
        "\n",
        "  for step in range(max_steps):\n",
        "    # env.render()\n",
        "\n",
        "    # Choose an action\n",
        "    if greedy(epsilon):\n",
        "      action = np.argmax(q_table[state,:])\n",
        "    else:\n",
        "      action = env.action_space.sample()\n",
        "\n",
        "    # Perform it\n",
        "    new_state, reward, done, _ = env.step(action)\n",
        "\n",
        "    # Update q-table\n",
        "    q_table[state, action] = q_table[state, action] + learning_rate * (reward + \n",
        "                  discount * np.max(q_table[new_state, :]) - q_table[state, action])\n",
        "    state = new_state\n",
        "\n",
        "    cumul_rewards += reward\n",
        "\n",
        "    if done == True:\n",
        "      steps_till_success.append(step + 1)\n",
        "      rewards.append(cumul_rewards)\n",
        "      break\n",
        "\n",
        "  # env.render()\n",
        "  epsilon = epsilon_min + (epsilon_max - epsilon_min)*np.exp(-decay_rate * episode) \n",
        "  if episode % 10000 == 0:\n",
        "    learning_rate = learning_rate / 2\n",
        "  # print(\"**********************************************************************\")\n",
        "\n",
        "env.close()\n",
        "print(f'Average reward:{sum(rewards)/episodes_num}')\n",
        "print(f'Min step to success: {min(steps_till_success)}')"
      ],
      "execution_count": 6,
      "outputs": [
        {
          "output_type": "stream",
          "text": [
            "Average reward:-9.28614\n",
            "Min step to success: 6\n",
            "CPU times: user 21.6 s, sys: 17.1 ms, total: 21.7 s\n",
            "Wall time: 21.7 s\n"
          ],
          "name": "stdout"
        }
      ]
    },
    {
      "cell_type": "code",
      "metadata": {
        "id": "YwNiQMNx7228",
        "colab_type": "code",
        "outputId": "748695f9-0c8d-4afc-9e72-2c8cb6506be5",
        "colab": {
          "base_uri": "https://localhost:8080/",
          "height": 279
        }
      },
      "source": [
        "plt.plot(rewards)\n",
        "plt.xlabel('Episode')\n",
        "plt.ylabel('Rewards')\n",
        "plt.show()"
      ],
      "execution_count": 10,
      "outputs": [
        {
          "output_type": "display_data",
          "data": {
            "image/png": "[encoded data removed]",
            "text/plain": [
              "<Figure size 432x288 with 1 Axes>"
            ]
          },
          "metadata": {
            "tags": []
          }
        }
      ]
    },
    {
      "cell_type": "code",
      "metadata": {
        "id": "2Wt_lIkhKwt1",
        "colab_type": "code",
        "outputId": "cf1538bd-301f-4c61-ccf6-d185547f2c17",
        "colab": {
          "base_uri": "https://localhost:8080/",
          "height": 279
        }
      },
      "source": [
        "plt.plot(steps_till_success)\n",
        "plt.xlabel('Episode')\n",
        "plt.ylabel('Steps until success')\n",
        "plt.show()"
      ],
      "execution_count": 11,
      "outputs": [
        {
          "output_type": "display_data",
          "data": {
            "image/png": "[encoded data removed]",
            "text/plain": [
              "<Figure size 432x288 with 1 Axes>"
            ]
          },
          "metadata": {
            "tags": []
          }
        }
      ]
    },
    {
      "cell_type": "code",
      "metadata": {
        "id": "182Ok7tp_p9z",
        "colab_type": "code",
        "colab": {}
      },
      "source": [
        "print(q_table)"
      ],
      "execution_count": 0,
      "outputs": []
    },
    {
      "cell_type": "code",
      "metadata": {
        "id": "H0wFSVHTBmJ8",
        "colab_type": "code",
        "outputId": "96937fac-c7fc-4ecb-fce9-60f2fe18e96e",
        "colab": {
          "base_uri": "https://localhost:8080/",
          "height": 1000
        }
      },
      "source": [
        "env.reset()\n",
        "\n",
        "for episode in range(5):\n",
        "    state = env.reset()\n",
        "    step = 0\n",
        "    done = False\n",
        "    print(\"****************************************************\")\n",
        "    print(\"EPISODE \", episode)\n",
        "\n",
        "    for step in range(max_steps):\n",
        "\n",
        "        action = np.argmax(q_table[state,:])\n",
        "        \n",
        "        new_state, reward, done, info = env.step(action)\n",
        "        \n",
        "        if done:\n",
        "            env.render()\n",
        "            print(\"Number of steps\", step)\n",
        "            break\n",
        "        state = new_state\n",
        "env.close()"
      ],
      "execution_count": 12,
      "outputs": [
        {
          "output_type": "stream",
          "text": [
            "****************************************************\n",
            "EPISODE  0\n",
            "+---------+\n",
            "|R: | : :G|\n",
            "| : | : : |\n",
            "| : : : : |\n",
            "| | : | : |\n",
            "|Y| : |\u001b[35m\u001b[34;1m\u001b[43mB\u001b[0m\u001b[0m\u001b[0m: |\n",
            "+---------+\n",
            "  (Dropoff)\n",
            "Number of steps 13\n",
            "****************************************************\n",
            "EPISODE  1\n",
            "+---------+\n",
            "|R: | : :G|\n",
            "| : | : : |\n",
            "| : : : : |\n",
            "| | : | : |\n",
            "|\u001b[35m\u001b[34;1m\u001b[43mY\u001b[0m\u001b[0m\u001b[0m| : |B: |\n",
            "+---------+\n",
            "  (Dropoff)\n",
            "Number of steps 17\n",
            "****************************************************\n",
            "EPISODE  2\n",
            "+---------+\n",
            "|R: | : :G|\n",
            "| : | : : |\n",
            "| : : : : |\n",
            "| | : | : |\n",
            "|Y| : |\u001b[35m\u001b[34;1m\u001b[43mB\u001b[0m\u001b[0m\u001b[0m: |\n",
            "+---------+\n",
            "  (Dropoff)\n",
            "Number of steps 8\n",
            "****************************************************\n",
            "EPISODE  3\n",
            "+---------+\n",
            "|R: | : :\u001b[35m\u001b[34;1m\u001b[43mG\u001b[0m\u001b[0m\u001b[0m|\n",
            "| : | : : |\n",
            "| : : : : |\n",
            "| | : | : |\n",
            "|Y| : |B: |\n",
            "+---------+\n",
            "  (Dropoff)\n",
            "Number of steps 15\n",
            "****************************************************\n",
            "EPISODE  4\n",
            "+---------+\n",
            "|R: | : :G|\n",
            "| : | : : |\n",
            "| : : : : |\n",
            "| | : | : |\n",
            "|\u001b[35m\u001b[34;1m\u001b[43mY\u001b[0m\u001b[0m\u001b[0m| : |B: |\n",
            "+---------+\n",
            "  (Dropoff)\n",
            "Number of steps 15\n"
          ],
          "name": "stdout"
        }
      ]
    },
    {
      "cell_type": "code",
      "metadata": {
        "id": "Kx-6VtBiDBOI",
        "colab_type": "code",
        "outputId": "c7b8855b-489b-4290-b079-b168ce32c433",
        "colab": {
          "base_uri": "https://localhost:8080/",
          "height": 73
        }
      },
      "source": [
        "rewards_test = []\n",
        "steps = []\n",
        "\n",
        "for episode in range(1000):\n",
        "    state = env.reset()\n",
        "    total_reward = 0\n",
        "    step = 0\n",
        "    done = False\n",
        "\n",
        "    for step in range(max_steps):\n",
        "        \n",
        "        action = np.argmax(q_table[state,:])\n",
        "        \n",
        "        new_state, reward, done, info = env.step(action)\n",
        "\n",
        "        total_reward += reward\n",
        "        \n",
        "        if done:\n",
        "          rewards_test.append(total_rewards)\n",
        "          steps.append(step + 1)\n",
        "          break\n",
        "        state = new_state\n",
        "\n",
        "env.close()\n",
        "\n",
        "print(f'Average reward: {total_reward}')\n",
        "print(f'Average steps: {np.mean(steps)}')\n",
        "print(np.var(rewards))"
      ],
      "execution_count": 14,
      "outputs": [
        {
          "output_type": "stream",
          "text": [
            "Average reward: 11\n",
            "Average steps: 13.081\n",
            "5891.936183900398\n"
          ],
          "name": "stdout"
        }
      ]
    },
    {
      "cell_type": "code",
      "metadata": {
        "id": "LnVwKUPhrA0M",
        "colab_type": "code",
        "colab": {}
      },
      "source": [
        "df1 = pd.DataFrame()\n",
        "df1['steps'] = steps_till_success\n",
        "df1.to_csv('Q_tab_Taxi_50000_steps.csv')\n",
        "files.download(r'Q_tab_Taxi_50000_steps.csv')\n",
        "\n",
        "df2 = pd.DataFrame()\n",
        "df2['rewards'] = rewards\n",
        "df2.to_csv('Q_tab_Taxi_50000_rewards.csv')\n",
        "files.download(r'Q_tab_Taxi_50000_rewards.csv')"
      ],
      "execution_count": 0,
      "outputs": []
    }
  ]
}