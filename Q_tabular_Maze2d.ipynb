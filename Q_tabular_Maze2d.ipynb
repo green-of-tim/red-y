{
  "nbformat": 4,
  "nbformat_minor": 0,
  "metadata": {
    "colab": {
      "name": "Q_tabular_Maze2d.ipynb",
      "provenance": [],
      "collapsed_sections": [],
      "authorship_tag": "ABX9TyPUs1Og7fq6U3iQPuH2GP0s"
    },
    "kernelspec": {
      "name": "python3",
      "display_name": "Python 3"
    }
  },
  "cells": [
    {
      "cell_type": "code",
      "metadata": {
        "id": "BFJj85o06MGn",
        "colab_type": "code",
        "outputId": "57b175fc-dc7a-41d3-d879-26d56189792c",
        "colab": {
          "base_uri": "https://localhost:8080/",
          "height": 36
        }
      },
      "source": [
        "!git clone https://github.com/MattChanTK/gym-maze.git"
      ],
      "execution_count": 1,
      "outputs": [
        {
          "output_type": "stream",
          "text": [
            "fatal: destination path 'gym-maze' already exists and is not an empty directory.\n"
          ],
          "name": "stdout"
        }
      ]
    },
    {
      "cell_type": "code",
      "metadata": {
        "id": "cKHxkrb_6YZz",
        "colab_type": "code",
        "outputId": "3235b147-2e55-4dca-e67f-7ca02d4410d5",
        "colab": {
          "base_uri": "https://localhost:8080/",
          "height": 1000
        }
      },
      "source": [
        "%cd gym-maze/\n",
        "!python setup.py install"
      ],
      "execution_count": 2,
      "outputs": [
        {
          "output_type": "stream",
          "text": [
            "/content/gym-maze\n",
            "running install\n",
            "running bdist_egg\n",
            "running egg_info\n",
            "writing gym_maze.egg-info/PKG-INFO\n",
            "writing dependency_links to gym_maze.egg-info/dependency_links.txt\n",
            "writing requirements to gym_maze.egg-info/requires.txt\n",
            "writing top-level names to gym_maze.egg-info/top_level.txt\n",
            "writing manifest file 'gym_maze.egg-info/SOURCES.txt'\n",
            "installing library code to build/bdist.linux-x86_64/egg\n",
            "running install_lib\n",
            "running build_py\n",
            "creating build/bdist.linux-x86_64/egg\n",
            "creating build/bdist.linux-x86_64/egg/gym_maze\n",
            "copying build/lib/gym_maze/__init__.py -> build/bdist.linux-x86_64/egg/gym_maze\n",
            "creating build/bdist.linux-x86_64/egg/gym_maze/envs\n",
            "copying build/lib/gym_maze/envs/__init__.py -> build/bdist.linux-x86_64/egg/gym_maze/envs\n",
            "copying build/lib/gym_maze/envs/maze_env.py -> build/bdist.linux-x86_64/egg/gym_maze/envs\n",
            "copying build/lib/gym_maze/envs/maze_view_2d.py -> build/bdist.linux-x86_64/egg/gym_maze/envs\n",
            "creating build/bdist.linux-x86_64/egg/gym_maze/envs/maze_samples\n",
            "copying build/lib/gym_maze/envs/maze_samples/maze2d_5x5.npy -> build/bdist.linux-x86_64/egg/gym_maze/envs/maze_samples\n",
            "copying build/lib/gym_maze/envs/maze_samples/maze2d_10x10.npy -> build/bdist.linux-x86_64/egg/gym_maze/envs/maze_samples\n",
            "copying build/lib/gym_maze/envs/maze_samples/maze2d_100x100.npy -> build/bdist.linux-x86_64/egg/gym_maze/envs/maze_samples\n",
            "copying build/lib/gym_maze/envs/maze_samples/maze2d_3x3.npy -> build/bdist.linux-x86_64/egg/gym_maze/envs/maze_samples\n",
            "copying build/lib/gym_maze/envs/maze_generator.py -> build/bdist.linux-x86_64/egg/gym_maze/envs\n",
            "byte-compiling build/bdist.linux-x86_64/egg/gym_maze/__init__.py to __init__.cpython-36.pyc\n",
            "byte-compiling build/bdist.linux-x86_64/egg/gym_maze/envs/__init__.py to __init__.cpython-36.pyc\n",
            "byte-compiling build/bdist.linux-x86_64/egg/gym_maze/envs/maze_env.py to maze_env.cpython-36.pyc\n",
            "byte-compiling build/bdist.linux-x86_64/egg/gym_maze/envs/maze_view_2d.py to maze_view_2d.cpython-36.pyc\n",
            "byte-compiling build/bdist.linux-x86_64/egg/gym_maze/envs/maze_generator.py to maze_generator.cpython-36.pyc\n",
            "creating build/bdist.linux-x86_64/egg/EGG-INFO\n",
            "copying gym_maze.egg-info/PKG-INFO -> build/bdist.linux-x86_64/egg/EGG-INFO\n",
            "copying gym_maze.egg-info/SOURCES.txt -> build/bdist.linux-x86_64/egg/EGG-INFO\n",
            "copying gym_maze.egg-info/dependency_links.txt -> build/bdist.linux-x86_64/egg/EGG-INFO\n",
            "copying gym_maze.egg-info/requires.txt -> build/bdist.linux-x86_64/egg/EGG-INFO\n",
            "copying gym_maze.egg-info/top_level.txt -> build/bdist.linux-x86_64/egg/EGG-INFO\n",
            "zip_safe flag not set; analyzing archive contents...\n",
            "gym_maze.envs.__pycache__.maze_view_2d.cpython-36: module references __file__\n",
            "creating 'dist/gym_maze-0.4-py3.6.egg' and adding 'build/bdist.linux-x86_64/egg' to it\n",
            "removing 'build/bdist.linux-x86_64/egg' (and everything under it)\n",
            "Processing gym_maze-0.4-py3.6.egg\n",
            "removing '/usr/local/lib/python3.6/dist-packages/gym_maze-0.4-py3.6.egg' (and everything under it)\n",
            "creating /usr/local/lib/python3.6/dist-packages/gym_maze-0.4-py3.6.egg\n",
            "Extracting gym_maze-0.4-py3.6.egg to /usr/local/lib/python3.6/dist-packages\n",
            "gym-maze 0.4 is already the active version in easy-install.pth\n",
            "\n",
            "Installed /usr/local/lib/python3.6/dist-packages/gym_maze-0.4-py3.6.egg\n",
            "Processing dependencies for gym-maze==0.4\n",
            "Searching for numpy==1.18.2\n",
            "Best match: numpy 1.18.2\n",
            "Adding numpy 1.18.2 to easy-install.pth file\n",
            "Installing f2py script to /usr/local/bin\n",
            "Installing f2py3 script to /usr/local/bin\n",
            "Installing f2py3.6 script to /usr/local/bin\n",
            "\n",
            "Using /usr/local/lib/python3.6/dist-packages\n",
            "Searching for pygame==2.0.0.dev6\n",
            "Best match: pygame 2.0.0.dev6\n",
            "Processing pygame-2.0.0.dev6-py3.6-linux-x86_64.egg\n",
            "pygame 2.0.0.dev6 is already the active version in easy-install.pth\n",
            "\n",
            "Using /usr/local/lib/python3.6/dist-packages/pygame-2.0.0.dev6-py3.6-linux-x86_64.egg\n",
            "Searching for gym==0.17.1\n",
            "Best match: gym 0.17.1\n",
            "Adding gym 0.17.1 to easy-install.pth file\n",
            "\n",
            "Using /usr/local/lib/python3.6/dist-packages\n",
            "Searching for scipy==1.4.1\n",
            "Best match: scipy 1.4.1\n",
            "Adding scipy 1.4.1 to easy-install.pth file\n",
            "\n",
            "Using /usr/local/lib/python3.6/dist-packages\n",
            "Searching for pyglet==1.5.0\n",
            "Best match: pyglet 1.5.0\n",
            "Adding pyglet 1.5.0 to easy-install.pth file\n",
            "\n",
            "Using /usr/local/lib/python3.6/dist-packages\n",
            "Searching for cloudpickle==1.3.0\n",
            "Best match: cloudpickle 1.3.0\n",
            "Adding cloudpickle 1.3.0 to easy-install.pth file\n",
            "\n",
            "Using /usr/local/lib/python3.6/dist-packages\n",
            "Searching for six==1.12.0\n",
            "Best match: six 1.12.0\n",
            "Adding six 1.12.0 to easy-install.pth file\n",
            "\n",
            "Using /usr/local/lib/python3.6/dist-packages\n",
            "Searching for future==0.16.0\n",
            "Best match: future 0.16.0\n",
            "Adding future 0.16.0 to easy-install.pth file\n",
            "Installing futurize script to /usr/local/bin\n",
            "Installing pasteurize script to /usr/local/bin\n",
            "\n",
            "Using /usr/local/lib/python3.6/dist-packages\n",
            "Finished processing dependencies for gym-maze==0.4\n"
          ],
          "name": "stdout"
        }
      ]
    },
    {
      "cell_type": "code",
      "metadata": {
        "id": "85ZtmYi364Ul",
        "colab_type": "code",
        "outputId": "8f808186-5b94-4042-bc98-2cbc8cf8b018",
        "colab": {
          "base_uri": "https://localhost:8080/",
          "height": 73
        }
      },
      "source": [
        "!pip install pygame\n",
        "import pygame"
      ],
      "execution_count": 3,
      "outputs": [
        {
          "output_type": "stream",
          "text": [
            "Requirement already satisfied: pygame in /usr/local/lib/python3.6/dist-packages/pygame-2.0.0.dev6-py3.6-linux-x86_64.egg (2.0.0.dev6)\n",
            "pygame 2.0.0.dev6 (SDL 2.0.10, python 3.6.9)\n",
            "Hello from the pygame community. https://www.pygame.org/contribute.html\n"
          ],
          "name": "stdout"
        }
      ]
    },
    {
      "cell_type": "code",
      "metadata": {
        "id": "4iuLDhY7zk5t",
        "colab_type": "code",
        "colab": {}
      },
      "source": [
        "import numpy as np\n",
        "import gym\n",
        "import gym_maze\n",
        "import random\n",
        "import matplotlib.pyplot as plt\n",
        "import pandas as pd\n",
        "from google.colab import files"
      ],
      "execution_count": 0,
      "outputs": []
    },
    {
      "cell_type": "code",
      "metadata": {
        "id": "o3DMEEz8OOzW",
        "colab_type": "code",
        "outputId": "6093baaa-b2c3-46c2-c153-85449d160421",
        "colab": {
          "base_uri": "https://localhost:8080/",
          "height": 36
        }
      },
      "source": [
        "import os\n",
        "os.environ['SDL_VIDEODRIVER']='dummy'\n",
        "pygame.display.set_mode((640,480))"
      ],
      "execution_count": 5,
      "outputs": [
        {
          "output_type": "execute_result",
          "data": {
            "text/plain": [
              "<Surface(640x480x32 SW)>"
            ]
          },
          "metadata": {
            "tags": []
          },
          "execution_count": 5
        }
      ]
    },
    {
      "cell_type": "code",
      "metadata": {
        "id": "eWBIEmDwzs_Y",
        "colab_type": "code",
        "colab": {}
      },
      "source": [
        "env = gym.make(\"maze-random-100x100-v0\")\n",
        "action_num = env.action_space.n\n",
        "MAZE_SIZE = tuple((env.observation_space.high + np.ones(env.observation_space.shape)).astype(int))\n",
        "obs_num = MAZE_SIZE[0] * MAZE_SIZE[1]"
      ],
      "execution_count": 0,
      "outputs": []
    },
    {
      "cell_type": "code",
      "metadata": {
        "id": "ehHSfY_a0D3A",
        "colab_type": "code",
        "colab": {}
      },
      "source": [
        "# Learning Parameters\n",
        "episodes_num = 200\n",
        "learning_rate = 0.3\n",
        "max_steps = 1000000\n",
        "discount = 0.95\n",
        "epsilon = 1.0\n",
        "epsilon_min = 0.01\n",
        "epsilon_max = 1.0\n",
        "decay_rate = 0.005"
      ],
      "execution_count": 0,
      "outputs": []
    },
    {
      "cell_type": "code",
      "metadata": {
        "id": "wdf_mdDx3kHN",
        "colab_type": "code",
        "colab": {}
      },
      "source": [
        "q_table = np.zeros((obs_num, action_num))"
      ],
      "execution_count": 0,
      "outputs": []
    },
    {
      "cell_type": "code",
      "metadata": {
        "id": "g7t5dH9G4wbo",
        "colab_type": "code",
        "colab": {}
      },
      "source": [
        "def greedy(eps):\n",
        "  pivot = random.uniform(0, 1)\n",
        "  return pivot > eps"
      ],
      "execution_count": 0,
      "outputs": []
    },
    {
      "cell_type": "code",
      "metadata": {
        "id": "prP5Q-qYRKKY",
        "colab_type": "code",
        "colab": {}
      },
      "source": [
        "def obs_to_state(obs):\n",
        "  return int(obs[0] * MAZE_SIZE[1] + obs[1])"
      ],
      "execution_count": 0,
      "outputs": []
    },
    {
      "cell_type": "code",
      "metadata": {
        "id": "vuR3RQHVR12I",
        "colab_type": "code",
        "colab": {}
      },
      "source": [
        "act = ['N', 'E', 'S', 'W']"
      ],
      "execution_count": 0,
      "outputs": []
    },
    {
      "cell_type": "code",
      "metadata": {
        "id": "9yZ8Ot5M0Jcj",
        "colab_type": "code",
        "outputId": "dbce6dde-1ccd-464c-b493-a4a8e17b78ea",
        "colab": {
          "base_uri": "https://localhost:8080/",
          "height": 73
        }
      },
      "source": [
        "%%time\n",
        "\n",
        "rewards = []\n",
        "\n",
        "for episode in range(episodes_num):\n",
        "  state = obs_to_state(env.reset())\n",
        "  reward = 0\n",
        "  done = False\n",
        "  cumul_rewards = 0\n",
        "\n",
        "  for step in range(max_steps):\n",
        "    #env.render()\n",
        "\n",
        "    # Choose an action\n",
        "    if greedy(epsilon):\n",
        "      action = np.argmax(q_table[state,:])\n",
        "    else:\n",
        "      action = env.action_space.sample()\n",
        "    \n",
        "    # Perform it\n",
        "    obs, reward, done, _ = env.step(act[action])\n",
        "    new_state = obs_to_state(obs)\n",
        "\n",
        "    # Update q-table\n",
        "    q_table[state, action] = q_table[state, action] + learning_rate * (reward + \n",
        "                  discount * np.max(q_table[new_state, :]) - q_table[state, action])\n",
        "    state = new_state\n",
        "\n",
        "    cumul_rewards += reward\n",
        "    # print(reward)\n",
        "\n",
        "    if done == True:\n",
        "      # print(step)\n",
        "      break\n",
        "\n",
        "  #env.render()\n",
        "  rewards.append(cumul_rewards)\n",
        "#  if episode > 500:\n",
        "#    if np.var(rewards[-500:-1]) < 15.0:\n",
        "#      break\n",
        "  epsilon = epsilon_min + (epsilon_max - epsilon_min)*np.exp(-decay_rate * episode) \n",
        "\n",
        "env.close()\n",
        "print(f'Average reward:{sum(rewards)/episodes_num}')"
      ],
      "execution_count": 125,
      "outputs": [
        {
          "output_type": "stream",
          "text": [
            "Average reward:-0.8181375499763085\n",
            "CPU times: user 35min 42s, sys: 7.1 s, total: 35min 49s\n",
            "Wall time: 35min 40s\n"
          ],
          "name": "stdout"
        }
      ]
    },
    {
      "cell_type": "code",
      "metadata": {
        "id": "RAnanH-ELd1P",
        "colab_type": "code",
        "colab": {
          "base_uri": "https://localhost:8080/",
          "height": 56
        },
        "outputId": "1b02517d-3811-4378-ab0b-24c8bf2190ac"
      },
      "source": [
        "print(rewards)"
      ],
      "execution_count": 81,
      "outputs": [
        {
          "output_type": "stream",
          "text": [
            "[-1.1109999999998785, -0.09199999999999053, -1.6919999999998145, 0.4449999999999996, 0.6719999999999997, 0.7249999999999999, -0.6649999999999274, 0.06599999999999928, 0.37699999999999956, 0.2869999999999995]\n"
          ],
          "name": "stdout"
        }
      ]
    },
    {
      "cell_type": "code",
      "metadata": {
        "id": "YwNiQMNx7228",
        "colab_type": "code",
        "outputId": "0e0c1522-6f05-4f73-96c6-013fa9a5a6c4",
        "colab": {
          "base_uri": "https://localhost:8080/",
          "height": 279
        }
      },
      "source": [
        "plt.plot(rewards)\n",
        "plt.xlabel('Episode')\n",
        "plt.ylabel('Rewards')\n",
        "plt.show()"
      ],
      "execution_count": 126,
      "outputs": [
        {
          "output_type": "display_data",
          "data": {
            "image/png": "[encoded data removed]",
            "text/plain": [
              "<Figure size 432x288 with 1 Axes>"
            ]
          },
          "metadata": {
            "tags": [],
            "needs_background": "light"
          }
        }
      ]
    },
    {
      "cell_type": "code",
      "metadata": {
        "id": "2Wt_lIkhKwt1",
        "colab_type": "code",
        "outputId": "ab0f850c-5fe5-44c2-9103-fc352c7584f4",
        "colab": {
          "base_uri": "https://localhost:8080/",
          "height": 279
        }
      },
      "source": [
        "plt.plot(rewards[1:40])\n",
        "plt.xlabel('Episode') \n",
        "plt.ylabel('Rewards')\n",
        "plt.show()"
      ],
      "execution_count": 117,
      "outputs": [
        {
          "output_type": "display_data",
          "data": {
            "image/png": "[encoded data removed]",
            "text/plain": [
              "<Figure size 432x288 with 1 Axes>"
            ]
          },
          "metadata": {
            "tags": [],
            "needs_background": "light"
          }
        }
      ]
    },
    {
      "cell_type": "code",
      "metadata": {
        "id": "182Ok7tp_p9z",
        "colab_type": "code",
        "outputId": "e08b540b-4ee6-4bd0-858e-93ed761fad44",
        "colab": {
          "base_uri": "https://localhost:8080/",
          "height": 148
        }
      },
      "source": [
        "print(q_table)"
      ],
      "execution_count": 15,
      "outputs": [
        {
          "output_type": "stream",
          "text": [
            "[[-1.99944028e-05 -1.99972007e-05 -1.99935053e-05 -1.99944033e-05]\n",
            " [-1.99933914e-05 -1.99924543e-05 -1.99942706e-05 -1.99946599e-05]\n",
            " [-1.99729111e-05 -1.99864559e-05 -1.99709366e-05 -1.99842416e-05]\n",
            " ...\n",
            " [ 0.00000000e+00  0.00000000e+00  0.00000000e+00  0.00000000e+00]\n",
            " [ 0.00000000e+00  0.00000000e+00  0.00000000e+00  0.00000000e+00]\n",
            " [ 0.00000000e+00  0.00000000e+00  0.00000000e+00  0.00000000e+00]]\n"
          ],
          "name": "stdout"
        }
      ]
    },
    {
      "cell_type": "code",
      "metadata": {
        "id": "Kx-6VtBiDBOI",
        "colab_type": "code",
        "outputId": "b3eba2bb-b6d9-4001-d177-2e3533d3487d",
        "colab": {
          "base_uri": "https://localhost:8080/",
          "height": 54
        }
      },
      "source": [
        "rewards_test = []\n",
        "steps = []\n",
        "\n",
        "for episode in range(1):\n",
        "    state = obs_to_state(env.reset())\n",
        "    total_reward = 0\n",
        "    step = 0\n",
        "    done = False\n",
        "\n",
        "    for step in range(max_steps):\n",
        "        \n",
        "        action = np.argmax(q_table[state,:])\n",
        "        \n",
        "        obs, reward, done, info = env.step(act[action])\n",
        "        new_state = obs_to_state(obs)\n",
        "\n",
        "        total_reward += reward\n",
        "        # print(reward)\n",
        "        \n",
        "        if done:\n",
        "          break\n",
        "        state = new_state\n",
        "    rewards_test.append(total_reward)\n",
        "\n",
        "env.close()\n",
        "\n",
        "print(f'Average reward: {np.mean(rewards_test)}')\n",
        "print(np.var(rewards_test))"
      ],
      "execution_count": 128,
      "outputs": [
        {
          "output_type": "stream",
          "text": [
            "Average reward: -9.99999999979059\n",
            "0.0\n"
          ],
          "name": "stdout"
        }
      ]
    },
    {
      "cell_type": "code",
      "metadata": {
        "id": "2smVCg8ef1EL",
        "colab_type": "code",
        "colab": {}
      },
      "source": [
        "from numpy import linalg as LA"
      ],
      "execution_count": 0,
      "outputs": []
    },
    {
      "cell_type": "code",
      "metadata": {
        "id": "8OZk13-DevDX",
        "colab_type": "code",
        "colab": {}
      },
      "source": [
        "q_table_tmp = q_table"
      ],
      "execution_count": 0,
      "outputs": []
    },
    {
      "cell_type": "code",
      "metadata": {
        "id": "PdAZ-p21f1kn",
        "colab_type": "code",
        "outputId": "444ecb99-09d3-481d-8c7e-4b9bff97274d",
        "colab": {
          "base_uri": "https://localhost:8080/",
          "height": 36
        }
      },
      "source": [
        "X = np.array(q_table_tmp)\n",
        "Y = np.array(q_table)\n",
        "N = LA.norm(X, 'fro')\n",
        "LA.norm(X - Y, 'fro') / N"
      ],
      "execution_count": 0,
      "outputs": [
        {
          "output_type": "execute_result",
          "data": {
            "text/plain": [
              "0.7543030559321763"
            ]
          },
          "metadata": {
            "tags": []
          },
          "execution_count": 49
        }
      ]
    },
    {
      "cell_type": "code",
      "metadata": {
        "id": "LnVwKUPhrA0M",
        "colab_type": "code",
        "colab": {}
      },
      "source": [
        "df2 = pd.DataFrame()\n",
        "df2['rewards'] = rewards\n",
        "df2.to_csv('Q_tab_Taxi_30000_rewards.csv')\n",
        "files.download(r'Q_tab_Taxi_30000_rewards.csv')"
      ],
      "execution_count": 0,
      "outputs": []
    }
  ]
}