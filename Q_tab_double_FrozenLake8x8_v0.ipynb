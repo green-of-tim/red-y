{
  "nbformat": 4,
  "nbformat_minor": 0,
  "metadata": {
    "colab": {
      "name": "Q_tab_double_FrozenLake8x8_v0.ipynb",
      "provenance": [],
      "collapsed_sections": [],
      "authorship_tag": "ABX9TyMtDEbXN+4Mit2ttdrc0smr"
    },
    "kernelspec": {
      "name": "python3",
      "display_name": "Python 3"
    }
  },
  "cells": [
    {
      "cell_type": "code",
      "metadata": {
        "id": "WAtbvdvbHGBf",
        "colab_type": "code",
        "colab": {}
      },
      "source": [
        "import numpy as np\n",
        "import gym\n",
        "import random\n",
        "import matplotlib.pyplot as plt\n",
        "import pandas as pd\n",
        "from google.colab import files"
      ],
      "execution_count": 0,
      "outputs": []
    },
    {
      "cell_type": "code",
      "metadata": {
        "id": "PKgh1q0QHXlP",
        "colab_type": "code",
        "colab": {}
      },
      "source": [
        "env = gym.make(\"FrozenLake8x8-v0\")\n",
        "action_num = env.action_space.n\n",
        "obs_num = env.observation_space.n"
      ],
      "execution_count": 0,
      "outputs": []
    },
    {
      "cell_type": "code",
      "metadata": {
        "id": "r9nxcS9kHZQW",
        "colab_type": "code",
        "colab": {}
      },
      "source": [
        "# Learning Parameters\n",
        "episodes_num = 30000\n",
        "learning_rate = 0.1\n",
        "max_steps = 299\n",
        "discount = 0.95\n",
        "epsilon = 1.0\n",
        "epsilon_min = 0.1\n",
        "epsilon_max = 1.0\n",
        "decay_rate = 0.0005"
      ],
      "execution_count": 0,
      "outputs": []
    },
    {
      "cell_type": "code",
      "metadata": {
        "id": "BEamg-YMHb1h",
        "colab_type": "code",
        "colab": {}
      },
      "source": [
        "q1_table = np.zeros((obs_num, action_num))\n",
        "q2_table = np.zeros((obs_num, action_num))"
      ],
      "execution_count": 0,
      "outputs": []
    },
    {
      "cell_type": "code",
      "metadata": {
        "id": "b7pzzMM9Hgtt",
        "colab_type": "code",
        "colab": {}
      },
      "source": [
        "def greedy(eps):\n",
        "  pivot = random.uniform(0, 1)\n",
        "  return pivot > eps"
      ],
      "execution_count": 0,
      "outputs": []
    },
    {
      "cell_type": "code",
      "metadata": {
        "id": "xAzdXdaVHj2F",
        "colab_type": "code",
        "outputId": "22bc1f33-ddce-44c3-dc09-a862d7c94fbb",
        "colab": {
          "base_uri": "https://localhost:8080/",
          "height": 90
        }
      },
      "source": [
        "%%time\n",
        "\n",
        "rewards = []\n",
        "steps_till_success = []\n",
        "\n",
        "for episode in range(episodes_num):\n",
        "  state = env.reset()\n",
        "  reward = 0\n",
        "  step = 0\n",
        "  done = False\n",
        "  cumul_rewards = 0\n",
        "\n",
        "  for step in range(max_steps):\n",
        "\n",
        "    # Choose an action\n",
        "    if greedy(epsilon):\n",
        "      action = np.argmax(q1_table[state,:] + q2_table[state,:])\n",
        "    else:\n",
        "      action = env.action_space.sample()\n",
        "\n",
        "    # Perform it\n",
        "    new_state, reward, done, _ = env.step(action)\n",
        "\n",
        "    if reward == 0 and done == True:\n",
        "      reward = -1\n",
        "    elif done == False:\n",
        "      reward = 0\n",
        "    else:\n",
        "      reward = 1\n",
        "\n",
        "    # Update q-table\n",
        "    a1_max = np.argmax(q1_table[new_state, :])\n",
        "    a2_max = np.argmax(q2_table[new_state, :])\n",
        "\n",
        "    if random.uniform(0,1) > 0.5:\n",
        "      q1_table[state, action] = q1_table[state, action] + learning_rate * (reward + \n",
        "                  discount * q2_table[new_state, a1_max] - q1_table[state, action])\n",
        "    else:\n",
        "      q2_table[state, action] = q2_table[state, action] + learning_rate * (reward + \n",
        "                  discount * q1_table[new_state, a2_max] - q2_table[state, action])\n",
        "    state = new_state\n",
        "\n",
        "    cumul_rewards += reward\n",
        "    if reward > 0:\n",
        "      steps_till_success.append(step + 1)\n",
        "\n",
        "    if done == True:\n",
        "      break\n",
        "\n",
        "  if cumul_rewards < 1:\n",
        "    steps_till_success.append(max_steps + 1)\n",
        "  if episode % 4000 == 0:\n",
        "    learning_rate = learning_rate / 2\n",
        "  epsilon = epsilon_min + (epsilon_max - epsilon_min)*np.exp(-decay_rate * episode) \n",
        "  rewards.append(cumul_rewards)\n",
        "\n",
        "env.close()\n",
        "print(f'Average reward:{sum(rewards)/episodes_num}')\n",
        "print(f'Min step to success: {min(steps_till_success)}')"
      ],
      "execution_count": 6,
      "outputs": [
        {
          "output_type": "stream",
          "text": [
            "Average reward:-0.1706\n",
            "Min step to success: 16\n",
            "CPU times: user 55 s, sys: 42.5 ms, total: 55 s\n",
            "Wall time: 55.1 s\n"
          ],
          "name": "stdout"
        }
      ]
    },
    {
      "cell_type": "code",
      "metadata": {
        "id": "lDg92JddKkjA",
        "colab_type": "code",
        "outputId": "3f1cd834-a43f-4f01-bb3d-04d57ebde9cd",
        "colab": {
          "base_uri": "https://localhost:8080/",
          "height": 279
        }
      },
      "source": [
        "plt.plot(steps_till_success)\n",
        "plt.xlabel('Episode')\n",
        "plt.ylabel('Steps until success')\n",
        "plt.show()"
      ],
      "execution_count": 7,
      "outputs": [
        {
          "output_type": "display_data",
          "data": {
            "image/png": "[encoded data removed]",
            "text/plain": [
              "<Figure size 432x288 with 1 Axes>"
            ]
          },
          "metadata": {
            "tags": []
          }
        }
      ]
    },
    {
      "cell_type": "code",
      "metadata": {
        "id": "2Wt_lIkhKwt1",
        "colab_type": "code",
        "outputId": "5913f245-0c50-49aa-f254-420e7ed185bd",
        "colab": {
          "base_uri": "https://localhost:8080/",
          "height": 279
        }
      },
      "source": [
        "plt.plot(steps_till_success[-1001:-1])\n",
        "plt.xlabel('Episode')\n",
        "plt.ylabel('Steps until success')\n",
        "plt.show()"
      ],
      "execution_count": 8,
      "outputs": [
        {
          "output_type": "display_data",
          "data": {
            "image/png": "[encoded data removed]",
            "text/plain": [
              "<Figure size 432x288 with 1 Axes>"
            ]
          },
          "metadata": {
            "tags": []
          }
        }
      ]
    },
    {
      "cell_type": "code",
      "metadata": {
        "id": "_Xn0kfXrBovM",
        "colab_type": "code",
        "outputId": "8686f1d1-1f61-4583-b6db-cfb5e71150bf",
        "colab": {
          "base_uri": "https://localhost:8080/",
          "height": 295
        }
      },
      "source": [
        "print(q1_table)"
      ],
      "execution_count": 0,
      "outputs": [
        {
          "output_type": "stream",
          "text": [
            "[[ 0.05001763  0.04785128  0.04870205  0.0448093 ]\n",
            " [-0.22178678 -0.40885718 -0.34727747  0.03883272]\n",
            " [-0.13369296 -0.10622995 -0.00857268  0.03096684]\n",
            " [-0.37051162 -0.32090961 -0.45462165  0.02691808]\n",
            " [ 0.05886626 -0.59195616 -0.16513318 -0.34072414]\n",
            " [ 0.          0.          0.          0.        ]\n",
            " [-0.42018853 -0.72424579 -0.35491338 -0.57279457]\n",
            " [ 0.          0.          0.          0.        ]\n",
            " [-0.12461816 -0.10851213 -0.34911372  0.06696601]\n",
            " [-0.17403774  0.11640859 -0.10759883 -0.42213598]\n",
            " [ 0.02791715 -0.16212404 -0.08238712 -0.20586383]\n",
            " [ 0.          0.          0.          0.        ]\n",
            " [ 0.          0.          0.          0.        ]\n",
            " [ 0.016894    0.0924574   0.24515408  0.14941079]\n",
            " [ 0.34232511  0.4190495   0.42790411  0.54700731]\n",
            " [ 0.          0.          0.          0.        ]]\n"
          ],
          "name": "stdout"
        }
      ]
    },
    {
      "cell_type": "code",
      "metadata": {
        "id": "WcH-M57RBras",
        "colab_type": "code",
        "colab": {}
      },
      "source": [
        "print(q2_table)"
      ],
      "execution_count": 0,
      "outputs": []
    },
    {
      "cell_type": "code",
      "metadata": {
        "id": "H9KOFBqGK2Bp",
        "colab_type": "code",
        "outputId": "ae96ad52-d53b-4257-b235-bae2f0f25d37",
        "colab": {
          "base_uri": "https://localhost:8080/",
          "height": 1000
        }
      },
      "source": [
        "q_table = q1_table + q2_table\n",
        "\n",
        "env.reset()\n",
        "\n",
        "for episode in range(5):\n",
        "    state = env.reset()\n",
        "    step = 0\n",
        "    done = False\n",
        "    print(\"****************************************************\")\n",
        "    print(\"EPISODE \", episode)\n",
        "\n",
        "    for step in range(max_steps):\n",
        "\n",
        "        action = np.argmax(q_table[state,:])\n",
        "        \n",
        "        new_state, reward, done, info = env.step(action)\n",
        "        \n",
        "        if done:\n",
        "            env.render()\n",
        "            print(\"Number of steps\", step + 1)\n",
        "            break\n",
        "        state = new_state\n",
        "env.close()"
      ],
      "execution_count": 9,
      "outputs": [
        {
          "output_type": "stream",
          "text": [
            "****************************************************\n",
            "EPISODE  0\n",
            "  (Right)\n",
            "SFFFFFFF\n",
            "FFFFFFFF\n",
            "FFFHFFFF\n",
            "FFFFFHFF\n",
            "FFFHFFFF\n",
            "FHHFFFHF\n",
            "FHFFHFHF\n",
            "FFFHFFF\u001b[41mG\u001b[0m\n",
            "Number of steps 72\n",
            "****************************************************\n",
            "EPISODE  1\n",
            "  (Right)\n",
            "SFFFFFFF\n",
            "FFFFFFFF\n",
            "FFFHFFFF\n",
            "FFFFFHFF\n",
            "FFFHFFFF\n",
            "FHHFFFHF\n",
            "FHFFHFHF\n",
            "FFFHFFF\u001b[41mG\u001b[0m\n",
            "Number of steps 70\n",
            "****************************************************\n",
            "EPISODE  2\n",
            "  (Right)\n",
            "SFFFFFFF\n",
            "FFFFFFFF\n",
            "FFFHFFFF\n",
            "FFFFFHFF\n",
            "FFFHFFFF\n",
            "FHHFFFHF\n",
            "FHFFHFHF\n",
            "FFFHFFF\u001b[41mG\u001b[0m\n",
            "Number of steps 74\n",
            "****************************************************\n",
            "EPISODE  3\n",
            "  (Right)\n",
            "SFFFFFFF\n",
            "FFFFFFFF\n",
            "FFFHFFFF\n",
            "FFFFFHFF\n",
            "FFFHFFFF\n",
            "FHHFFFHF\n",
            "FHFFHFHF\n",
            "FFFHFFF\u001b[41mG\u001b[0m\n",
            "Number of steps 36\n",
            "****************************************************\n",
            "EPISODE  4\n",
            "  (Right)\n",
            "SFFFFFFF\n",
            "FFFFFFFF\n",
            "FFFHFFFF\n",
            "FFFFFHFF\n",
            "FFFHFFFF\n",
            "FHHFFFHF\n",
            "FHFFHFHF\n",
            "FFFHFFF\u001b[41mG\u001b[0m\n",
            "Number of steps 42\n"
          ],
          "name": "stdout"
        }
      ]
    },
    {
      "cell_type": "code",
      "metadata": {
        "id": "znOUwqqm8jXj",
        "colab_type": "code",
        "outputId": "59c29c88-123e-487b-8a7f-355f48f4d8d1",
        "colab": {
          "base_uri": "https://localhost:8080/",
          "height": 72
        }
      },
      "source": [
        "total_reward = 0\n",
        "steps = []\n",
        "\n",
        "for episode in range(1000):\n",
        "    state = env.reset()\n",
        "    step = 0\n",
        "    done = False\n",
        "\n",
        "    for step in range(max_steps):\n",
        "        \n",
        "        action = np.argmax(q_table[state,:])\n",
        "        \n",
        "        new_state, reward, done, info = env.step(action)\n",
        "\n",
        "        total_reward += reward\n",
        "        \n",
        "        if done:\n",
        "          if reward > 0:\n",
        "            steps.append(step + 1)\n",
        "          # else:\n",
        "          #   step.append(max_steps + 1)\n",
        "          break\n",
        "        state = new_state\n",
        "env.close()\n",
        "\n",
        "print(f'Successful runs out of 1000: {total_reward}')\n",
        "print(f'Average steps: {np.mean(steps)}')\n",
        "print(np.var(steps))"
      ],
      "execution_count": 10,
      "outputs": [
        {
          "output_type": "stream",
          "text": [
            "Successful runs out of 1000: 861.0\n",
            "Average steps: 94.2439024390244\n",
            "1730.1286649103424\n"
          ],
          "name": "stdout"
        }
      ]
    },
    {
      "cell_type": "code",
      "metadata": {
        "id": "Gs0PqO0F8dFn",
        "colab_type": "code",
        "colab": {}
      },
      "source": [
        "df1 = pd.DataFrame()\n",
        "df1['steps'] = steps_till_success\n",
        "df1.to_csv('Q_double_tab_FL8x8_30000_steps.csv')\n",
        "files.download(r'Q_double_tab_FL8x8_30000_steps.csv')"
      ],
      "execution_count": 0,
      "outputs": []
    }
  ]
}