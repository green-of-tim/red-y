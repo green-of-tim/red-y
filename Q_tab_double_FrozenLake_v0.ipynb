{
  "nbformat": 4,
  "nbformat_minor": 0,
  "metadata": {
    "colab": {
      "name": "Q_tab_double_FrozenLake_v0.ipynb",
      "provenance": [],
      "collapsed_sections": [],
      "authorship_tag": "ABX9TyPRq5RWZyvKlc7FNNrbmDgT"
    },
    "kernelspec": {
      "name": "python3",
      "display_name": "Python 3"
    }
  },
  "cells": [
    {
      "cell_type": "code",
      "metadata": {
        "id": "WAtbvdvbHGBf",
        "colab_type": "code",
        "colab": {}
      },
      "source": [
        "import numpy as np\n",
        "import gym\n",
        "import random\n",
        "import matplotlib.pyplot as plt"
      ],
      "execution_count": 0,
      "outputs": []
    },
    {
      "cell_type": "code",
      "metadata": {
        "id": "PKgh1q0QHXlP",
        "colab_type": "code",
        "colab": {}
      },
      "source": [
        "env = gym.make(\"FrozenLake-v0\")\n",
        "action_num = env.action_space.n\n",
        "obs_num = env.observation_space.n"
      ],
      "execution_count": 0,
      "outputs": []
    },
    {
      "cell_type": "code",
      "metadata": {
        "id": "r9nxcS9kHZQW",
        "colab_type": "code",
        "colab": {}
      },
      "source": [
        "# Learning Parameters\n",
        "episodes_num = 10000\n",
        "learning_rate = 0.1\n",
        "max_steps = 99\n",
        "discount = 0.94\n",
        "epsilon = 1.0\n",
        "epsilon_min = 0.1\n",
        "epsilon_max = 1.0\n",
        "decay_rate = 0.001"
      ],
      "execution_count": 0,
      "outputs": []
    },
    {
      "cell_type": "code",
      "metadata": {
        "id": "BEamg-YMHb1h",
        "colab_type": "code",
        "colab": {}
      },
      "source": [
        "q1_table = np.zeros((obs_num, action_num))\n",
        "q2_table = np.zeros((obs_num, action_num))"
      ],
      "execution_count": 0,
      "outputs": []
    },
    {
      "cell_type": "code",
      "metadata": {
        "id": "b7pzzMM9Hgtt",
        "colab_type": "code",
        "colab": {}
      },
      "source": [
        "def greedy(eps):\n",
        "  pivot = random.uniform(0, 1)\n",
        "  return pivot > eps"
      ],
      "execution_count": 0,
      "outputs": []
    },
    {
      "cell_type": "code",
      "metadata": {
        "id": "xAzdXdaVHj2F",
        "colab_type": "code",
        "outputId": "084b204f-a4e2-4227-9e86-903f6155d37f",
        "colab": {
          "base_uri": "https://localhost:8080/",
          "height": 52
        }
      },
      "source": [
        "rewards = []\n",
        "steps_till_success = []\n",
        "\n",
        "for episode in range(episodes_num):\n",
        "  state = env.reset()\n",
        "  reward = 0\n",
        "  step = 0\n",
        "  done = False\n",
        "  cumul_rewards = 0\n",
        "\n",
        "  for step in range(max_steps):\n",
        "\n",
        "    # Choose an action\n",
        "    if greedy(epsilon):\n",
        "      action = np.argmax(q1_table[state,:] + q1_table[state,:])\n",
        "    else:\n",
        "      action = env.action_space.sample()\n",
        "\n",
        "    # Perform it\n",
        "    new_state, reward, done, _ = env.step(action)\n",
        "\n",
        "    # Update q-table\n",
        "    a1_max = np.argmax(q1_table[new_state, :])\n",
        "    a2_max = np.argmax(q2_table[new_state, :])\n",
        "\n",
        "    if random.uniform(0,1) > 0.5:\n",
        "      q1_table[state, action] = q1_table[state, action] + learning_rate * (reward + \n",
        "                  discount * q2_table[new_state, a1_max] - q1_table[state, action])\n",
        "    else:\n",
        "      q2_table[state, action] = q2_table[state, action] + learning_rate * (reward + \n",
        "                  discount * q1_table[new_state, a2_max] - q2_table[state, action])\n",
        "    state = new_state\n",
        "\n",
        "    cumul_rewards += reward\n",
        "    if reward > 0:\n",
        "      steps_till_success.append(step + 1)\n",
        "\n",
        "    if done == True:\n",
        "      break\n",
        "\n",
        "  if cumul_rewards < 1:\n",
        "    steps_till_success.append(100)\n",
        "  epsilon = epsilon_min + (epsilon_max - epsilon_min)*np.exp(-decay_rate * episode) \n",
        "  rewards.append(cumul_rewards)\n",
        "\n",
        "env.close()\n",
        "print(f'Average reward:{sum(rewards)/episodes_num}')\n",
        "print(f'Min step to success: {min(steps_till_success)}')"
      ],
      "execution_count": 10,
      "outputs": [
        {
          "output_type": "stream",
          "text": [
            "Average reward:0.2369\n",
            "Min step to success: 6\n"
          ],
          "name": "stdout"
        }
      ]
    },
    {
      "cell_type": "code",
      "metadata": {
        "id": "lDg92JddKkjA",
        "colab_type": "code",
        "outputId": "3f5b62ed-f311-4115-f4c8-ad2a2f03d044",
        "colab": {
          "base_uri": "https://localhost:8080/",
          "height": 279
        }
      },
      "source": [
        "plt.plot(steps_till_success)\n",
        "plt.xlabel('Episode')\n",
        "plt.ylabel('Steps until success')\n",
        "plt.show()"
      ],
      "execution_count": 11,
      "outputs": [
        {
          "output_type": "display_data",
          "data": {
            "image/png": "[encoded data removed]",
            "text/plain": [
              "<Figure size 432x288 with 1 Axes>"
            ]
          },
          "metadata": {
            "tags": []
          }
        }
      ]
    },
    {
      "cell_type": "code",
      "metadata": {
        "id": "2Wt_lIkhKwt1",
        "colab_type": "code",
        "outputId": "85703977-d049-473c-b619-b9e0b8076702",
        "colab": {
          "base_uri": "https://localhost:8080/",
          "height": 279
        }
      },
      "source": [
        "plt.plot(steps_till_success[7999:10000])\n",
        "plt.xlabel('Episode')\n",
        "plt.ylabel('Steps until success')\n",
        "plt.show()"
      ],
      "execution_count": 12,
      "outputs": [
        {
          "output_type": "display_data",
          "data": {
            "image/png": "[encoded data removed]",
            "text/plain": [
              "<Figure size 432x288 with 1 Axes>"
            ]
          },
          "metadata": {
            "tags": []
          }
        }
      ]
    },
    {
      "cell_type": "code",
      "metadata": {
        "id": "H9KOFBqGK2Bp",
        "colab_type": "code",
        "outputId": "150f3304-1b5b-452e-905b-bcbcdbb73427",
        "colab": {
          "base_uri": "https://localhost:8080/",
          "height": 712
        }
      },
      "source": [
        "q_table = q1_table + q2_table\n",
        "\n",
        "env.reset()\n",
        "\n",
        "for episode in range(5):\n",
        "    state = env.reset()\n",
        "    step = 0\n",
        "    done = False\n",
        "    print(\"****************************************************\")\n",
        "    print(\"EPISODE \", episode)\n",
        "\n",
        "    for step in range(max_steps):\n",
        "\n",
        "        action = np.argmax(q_table[state,:])\n",
        "        \n",
        "        new_state, reward, done, info = env.step(action)\n",
        "        \n",
        "        if done:\n",
        "            env.render()\n",
        "            print(\"Number of steps\", step + 1)\n",
        "            break\n",
        "        state = new_state\n",
        "env.close()"
      ],
      "execution_count": 13,
      "outputs": [
        {
          "output_type": "stream",
          "text": [
            "****************************************************\n",
            "EPISODE  0\n",
            "  (Down)\n",
            "SFFF\n",
            "FHFH\n",
            "FFFH\n",
            "HFF\u001b[41mG\u001b[0m\n",
            "Number of steps 39\n",
            "****************************************************\n",
            "EPISODE  1\n",
            "  (Down)\n",
            "SFFF\n",
            "FHFH\n",
            "FFFH\n",
            "HFF\u001b[41mG\u001b[0m\n",
            "Number of steps 66\n",
            "****************************************************\n",
            "EPISODE  2\n",
            "  (Down)\n",
            "SFFF\n",
            "FHFH\n",
            "FFFH\n",
            "HFF\u001b[41mG\u001b[0m\n",
            "Number of steps 19\n",
            "****************************************************\n",
            "EPISODE  3\n",
            "  (Right)\n",
            "SFFF\n",
            "FHF\u001b[41mH\u001b[0m\n",
            "FFFH\n",
            "HFFG\n",
            "Number of steps 29\n",
            "****************************************************\n",
            "EPISODE  4\n",
            "  (Down)\n",
            "SFFF\n",
            "FHFH\n",
            "FFFH\n",
            "HFF\u001b[41mG\u001b[0m\n",
            "Number of steps 38\n"
          ],
          "name": "stdout"
        }
      ]
    },
    {
      "cell_type": "code",
      "metadata": {
        "id": "znOUwqqm8jXj",
        "colab_type": "code",
        "colab": {
          "base_uri": "https://localhost:8080/",
          "height": 34
        },
        "outputId": "43fa6d83-4ac4-4bf1-8911-feb2a6ae0bce"
      },
      "source": [
        "total_reward = 0\n",
        "\n",
        "for episode in range(100):\n",
        "    state = env.reset()\n",
        "    step = 0\n",
        "    done = False\n",
        "\n",
        "    for step in range(max_steps):\n",
        "        \n",
        "        action = np.argmax(q_table[state,:])\n",
        "        \n",
        "        new_state, reward, done, info = env.step(action)\n",
        "\n",
        "        total_reward += reward\n",
        "        \n",
        "        if done:\n",
        "            break\n",
        "        state = new_state\n",
        "env.close()\n",
        "\n",
        "print(f'Successful runs out of 100: {total_reward}')"
      ],
      "execution_count": 14,
      "outputs": [
        {
          "output_type": "stream",
          "text": [
            "Successful runs out of 100: 78.0\n"
          ],
          "name": "stdout"
        }
      ]
    }
  ]
}