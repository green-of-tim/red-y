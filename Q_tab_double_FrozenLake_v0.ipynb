{
  "nbformat": 4,
  "nbformat_minor": 0,
  "metadata": {
    "colab": {
      "name": "Q_tab_double_FrozenLake_v0.ipynb",
      "provenance": [],
      "collapsed_sections": [],
      "authorship_tag": "ABX9TyMTr5Y03G0ut844PE/Ens96"
    },
    "kernelspec": {
      "name": "python3",
      "display_name": "Python 3"
    }
  },
  "cells": [
    {
      "cell_type": "code",
      "metadata": {
        "id": "WAtbvdvbHGBf",
        "colab_type": "code",
        "colab": {}
      },
      "source": [
        "import numpy as np\n",
        "import gym\n",
        "import random\n",
        "import matplotlib.pyplot as plt"
      ],
      "execution_count": 0,
      "outputs": []
    },
    {
      "cell_type": "code",
      "metadata": {
        "id": "PKgh1q0QHXlP",
        "colab_type": "code",
        "colab": {}
      },
      "source": [
        "env = gym.make(\"FrozenLake-v0\")\n",
        "action_num = env.action_space.n\n",
        "obs_num = env.observation_space.n"
      ],
      "execution_count": 0,
      "outputs": []
    },
    {
      "cell_type": "code",
      "metadata": {
        "id": "r9nxcS9kHZQW",
        "colab_type": "code",
        "colab": {}
      },
      "source": [
        "# Learning Parameters\n",
        "episodes_num = 10000\n",
        "learning_rate = 0.1\n",
        "max_steps = 99\n",
        "discount = 0.94\n",
        "epsilon = 1.0\n",
        "epsilon_min = 0.1\n",
        "epsilon_max = 1.0\n",
        "decay_rate = 0.001"
      ],
      "execution_count": 0,
      "outputs": []
    },
    {
      "cell_type": "code",
      "metadata": {
        "id": "BEamg-YMHb1h",
        "colab_type": "code",
        "colab": {}
      },
      "source": [
        "q1_table = np.zeros((obs_num, action_num))\n",
        "q2_table = np.zeros((obs_num, action_num))"
      ],
      "execution_count": 0,
      "outputs": []
    },
    {
      "cell_type": "code",
      "metadata": {
        "id": "b7pzzMM9Hgtt",
        "colab_type": "code",
        "colab": {}
      },
      "source": [
        "def greedy(eps):\n",
        "  pivot = random.uniform(0, 1)\n",
        "  return pivot > eps"
      ],
      "execution_count": 0,
      "outputs": []
    },
    {
      "cell_type": "code",
      "metadata": {
        "id": "xAzdXdaVHj2F",
        "colab_type": "code",
        "outputId": "8b6e9e29-c82a-4e0d-c5ff-94581c09b4c6",
        "colab": {
          "base_uri": "https://localhost:8080/",
          "height": 52
        }
      },
      "source": [
        "rewards = []\n",
        "steps_till_success = []\n",
        "\n",
        "for episode in range(episodes_num):\n",
        "  state = env.reset()\n",
        "  reward = 0\n",
        "  step = 0\n",
        "  done = False\n",
        "  cumul_rewards = 0\n",
        "\n",
        "  for step in range(max_steps):\n",
        "\n",
        "    # Choose an action\n",
        "    if greedy(epsilon):\n",
        "      action = np.argmax(q1_table[state,:] + q1_table[state,:])\n",
        "    else:\n",
        "      action = env.action_space.sample()\n",
        "\n",
        "    # Perform it\n",
        "    new_state, reward, done, _ = env.step(action)\n",
        "\n",
        "    if reward == 0 and done == True:\n",
        "      reward = -1\n",
        "    elif done == False:\n",
        "      reward = 0\n",
        "    else:\n",
        "      reward = 1\n",
        "\n",
        "    # Update q-table\n",
        "    a1_max = np.argmax(q1_table[new_state, :])\n",
        "    a2_max = np.argmax(q2_table[new_state, :])\n",
        "\n",
        "    if random.uniform(0,1) > 0.5:\n",
        "      q1_table[state, action] = q1_table[state, action] + learning_rate * (reward + \n",
        "                  discount * q2_table[new_state, a1_max] - q1_table[state, action])\n",
        "    else:\n",
        "      q2_table[state, action] = q2_table[state, action] + learning_rate * (reward + \n",
        "                  discount * q1_table[new_state, a2_max] - q2_table[state, action])\n",
        "    state = new_state\n",
        "\n",
        "    cumul_rewards += reward\n",
        "    if reward > 0:\n",
        "      steps_till_success.append(step + 1)\n",
        "\n",
        "    if done == True:\n",
        "      break\n",
        "\n",
        "  if cumul_rewards < 1:\n",
        "    steps_till_success.append(max_steps + 1)\n",
        "  epsilon = epsilon_min + (epsilon_max - epsilon_min)*np.exp(-decay_rate * episode) \n",
        "  rewards.append(cumul_rewards)\n",
        "\n",
        "env.close()\n",
        "print(f'Average reward:{sum(rewards)/episodes_num}')\n",
        "print(f'Min step to success: {min(steps_till_success)}')"
      ],
      "execution_count": 10,
      "outputs": [
        {
          "output_type": "stream",
          "text": [
            "Average reward:-0.3875\n",
            "Min step to success: 6\n"
          ],
          "name": "stdout"
        }
      ]
    },
    {
      "cell_type": "code",
      "metadata": {
        "id": "lDg92JddKkjA",
        "colab_type": "code",
        "outputId": "7bfdb173-8c11-4162-e3b6-aa489fcf611c",
        "colab": {
          "base_uri": "https://localhost:8080/",
          "height": 279
        }
      },
      "source": [
        "plt.plot(steps_till_success)\n",
        "plt.xlabel('Episode')\n",
        "plt.ylabel('Steps until success')\n",
        "plt.show()"
      ],
      "execution_count": 11,
      "outputs": [
        {
          "output_type": "display_data",
          "data": {
            "image/png": "[encoded data removed]",
            "text/plain": [
              "<Figure size 432x288 with 1 Axes>"
            ]
          },
          "metadata": {
            "tags": []
          }
        }
      ]
    },
    {
      "cell_type": "code",
      "metadata": {
        "id": "2Wt_lIkhKwt1",
        "colab_type": "code",
        "outputId": "555d1a9c-c7dd-4bf7-c263-b7c17238ffc5",
        "colab": {
          "base_uri": "https://localhost:8080/",
          "height": 279
        }
      },
      "source": [
        "plt.plot(steps_till_success[7999:10000])\n",
        "plt.xlabel('Episode')\n",
        "plt.ylabel('Steps until success')\n",
        "plt.show()"
      ],
      "execution_count": 12,
      "outputs": [
        {
          "output_type": "display_data",
          "data": {
            "image/png": "[encoded data removed]",
            "text/plain": [
              "<Figure size 432x288 with 1 Axes>"
            ]
          },
          "metadata": {
            "tags": []
          }
        }
      ]
    },
    {
      "cell_type": "code",
      "metadata": {
        "id": "_Xn0kfXrBovM",
        "colab_type": "code",
        "colab": {
          "base_uri": "https://localhost:8080/",
          "height": 295
        },
        "outputId": "6178b3d1-a74f-4571-d856-1cbed1f513b8"
      },
      "source": [
        "print(q1_table)"
      ],
      "execution_count": 13,
      "outputs": [
        {
          "output_type": "stream",
          "text": [
            "[[ 0.09766811  0.08866424  0.0915053   0.0838888 ]\n",
            " [-0.14482431 -0.45666703 -0.34485188  0.06014928]\n",
            " [-0.10238372 -0.01113463 -0.05925066  0.04118519]\n",
            " [-0.24691724 -0.476908   -0.25720487  0.03272839]\n",
            " [ 0.11364771 -0.42743094 -0.23003826 -0.37188269]\n",
            " [ 0.          0.          0.          0.        ]\n",
            " [-0.45158794 -0.68093168 -0.22384703 -0.69948158]\n",
            " [ 0.          0.          0.          0.        ]\n",
            " [-0.21061554 -0.13043063 -0.20284636  0.14319371]\n",
            " [-0.06151088  0.22044143 -0.0385125  -0.20115833]\n",
            " [ 0.1966407  -0.23443902 -0.31652154 -0.18791712]\n",
            " [ 0.          0.          0.          0.        ]\n",
            " [ 0.          0.          0.          0.        ]\n",
            " [-0.10282091 -0.09611099  0.32182384 -0.04925941]\n",
            " [ 0.31437422  0.66061042  0.50079326  0.40712988]\n",
            " [ 0.          0.          0.          0.        ]]\n"
          ],
          "name": "stdout"
        }
      ]
    },
    {
      "cell_type": "code",
      "metadata": {
        "id": "WcH-M57RBras",
        "colab_type": "code",
        "colab": {
          "base_uri": "https://localhost:8080/",
          "height": 295
        },
        "outputId": "44d39dc4-90ce-4197-f849-df3548ebe18a"
      },
      "source": [
        "print(q2_table)"
      ],
      "execution_count": 14,
      "outputs": [
        {
          "output_type": "stream",
          "text": [
            "[[ 0.1000492   0.07851567  0.07616359  0.07771895]\n",
            " [-0.53714815 -0.11126123 -0.22605075  0.06307474]\n",
            " [-0.09648448 -0.04605488 -0.13903257  0.03721503]\n",
            " [-0.47177571 -0.26286393 -0.22865195  0.03300671]\n",
            " [ 0.11120424 -0.54121414 -0.07061267 -0.22127149]\n",
            " [ 0.          0.          0.          0.        ]\n",
            " [-0.26090326 -0.73653875 -0.27963031 -0.64845913]\n",
            " [ 0.          0.          0.          0.        ]\n",
            " [-0.08327469 -0.31105796 -0.20780877  0.15491683]\n",
            " [-0.05402919  0.20253859 -0.34883883 -0.38408867]\n",
            " [ 0.23884744 -0.24840537 -0.26189969 -0.42398902]\n",
            " [ 0.          0.          0.          0.        ]\n",
            " [ 0.          0.          0.          0.        ]\n",
            " [-0.24269212 -0.18912573  0.32330316  0.07457706]\n",
            " [ 0.37816522  0.53197178  0.66826734  0.39745356]\n",
            " [ 0.          0.          0.          0.        ]]\n"
          ],
          "name": "stdout"
        }
      ]
    },
    {
      "cell_type": "code",
      "metadata": {
        "id": "H9KOFBqGK2Bp",
        "colab_type": "code",
        "outputId": "f4cf1fff-e926-4dc8-d330-fd1d7b883965",
        "colab": {
          "base_uri": "https://localhost:8080/",
          "height": 712
        }
      },
      "source": [
        "q_table = q1_table + q2_table\n",
        "\n",
        "env.reset()\n",
        "\n",
        "for episode in range(5):\n",
        "    state = env.reset()\n",
        "    step = 0\n",
        "    done = False\n",
        "    print(\"****************************************************\")\n",
        "    print(\"EPISODE \", episode)\n",
        "\n",
        "    for step in range(max_steps):\n",
        "\n",
        "        action = np.argmax(q_table[state,:])\n",
        "        \n",
        "        new_state, reward, done, info = env.step(action)\n",
        "        \n",
        "        if done:\n",
        "            env.render()\n",
        "            print(\"Number of steps\", step + 1)\n",
        "            break\n",
        "        state = new_state\n",
        "env.close()"
      ],
      "execution_count": 17,
      "outputs": [
        {
          "output_type": "stream",
          "text": [
            "****************************************************\n",
            "EPISODE  0\n",
            "  (Right)\n",
            "SFFF\n",
            "FHF\u001b[41mH\u001b[0m\n",
            "FFFH\n",
            "HFFG\n",
            "Number of steps 15\n",
            "****************************************************\n",
            "EPISODE  1\n",
            "  (Down)\n",
            "SFFF\n",
            "FHFH\n",
            "FFFH\n",
            "HFF\u001b[41mG\u001b[0m\n",
            "Number of steps 28\n",
            "****************************************************\n",
            "EPISODE  2\n",
            "  (Down)\n",
            "SFFF\n",
            "FHFH\n",
            "FFFH\n",
            "HFF\u001b[41mG\u001b[0m\n",
            "Number of steps 37\n",
            "****************************************************\n",
            "EPISODE  3\n",
            "  (Down)\n",
            "SFFF\n",
            "FHFH\n",
            "FFFH\n",
            "HFF\u001b[41mG\u001b[0m\n",
            "Number of steps 45\n",
            "****************************************************\n",
            "EPISODE  4\n",
            "  (Down)\n",
            "SFFF\n",
            "FHFH\n",
            "FFFH\n",
            "HFF\u001b[41mG\u001b[0m\n",
            "Number of steps 15\n"
          ],
          "name": "stdout"
        }
      ]
    },
    {
      "cell_type": "code",
      "metadata": {
        "id": "znOUwqqm8jXj",
        "colab_type": "code",
        "outputId": "79af3012-41e4-4ed2-a1e9-28d23435e062",
        "colab": {
          "base_uri": "https://localhost:8080/",
          "height": 52
        }
      },
      "source": [
        "total_reward = 0\n",
        "steps = []\n",
        "\n",
        "for episode in range(100):\n",
        "    state = env.reset()\n",
        "    step = 0\n",
        "    done = False\n",
        "\n",
        "    for step in range(max_steps):\n",
        "        \n",
        "        action = np.argmax(q_table[state,:])\n",
        "        \n",
        "        new_state, reward, done, info = env.step(action)\n",
        "\n",
        "        total_reward += reward\n",
        "        \n",
        "        if done:\n",
        "          if reward > 0:\n",
        "            steps.append(step + 1)\n",
        "          # else:\n",
        "          #   step.append(max_steps + 1)\n",
        "          break\n",
        "        state = new_state\n",
        "env.close()\n",
        "\n",
        "print(f'Successful runs out of 100: {total_reward}')\n",
        "print(f'Average steps: {np.mean(steps)}')"
      ],
      "execution_count": 21,
      "outputs": [
        {
          "output_type": "stream",
          "text": [
            "Successful runs out of 100: 74.0\n",
            "Average steps: 40.445945945945944\n"
          ],
          "name": "stdout"
        }
      ]
    }
  ]
}