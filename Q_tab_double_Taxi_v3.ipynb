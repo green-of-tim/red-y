{
  "nbformat": 4,
  "nbformat_minor": 0,
  "metadata": {
    "colab": {
      "name": "Q_tab_double_Taxi_v3.ipynb",
      "provenance": [],
      "collapsed_sections": [],
      "authorship_tag": "ABX9TyM1+ziEiAd7ZIJEDdOMcWJz"
    },
    "kernelspec": {
      "name": "python3",
      "display_name": "Python 3"
    }
  },
  "cells": [
    {
      "cell_type": "code",
      "metadata": {
        "id": "WAtbvdvbHGBf",
        "colab_type": "code",
        "colab": {}
      },
      "source": [
        "import numpy as np\n",
        "import gym\n",
        "import random\n",
        "import matplotlib.pyplot as plt\n",
        "import pandas as pd\n",
        "from google.colab import files"
      ],
      "execution_count": 0,
      "outputs": []
    },
    {
      "cell_type": "code",
      "metadata": {
        "id": "PKgh1q0QHXlP",
        "colab_type": "code",
        "colab": {}
      },
      "source": [
        "env = gym.make(\"Taxi-v3\")\n",
        "action_num = env.action_space.n\n",
        "obs_num = env.observation_space.n"
      ],
      "execution_count": 0,
      "outputs": []
    },
    {
      "cell_type": "code",
      "metadata": {
        "id": "r9nxcS9kHZQW",
        "colab_type": "code",
        "colab": {}
      },
      "source": [
        "# Learning Parameters\n",
        "episodes_num = 30000\n",
        "learning_rate = 0.7\n",
        "max_steps = 99\n",
        "discount = 0.95\n",
        "epsilon = 1.0\n",
        "epsilon_min = 0.01\n",
        "epsilon_max = 1.0\n",
        "decay_rate = 0.0005"
      ],
      "execution_count": 0,
      "outputs": []
    },
    {
      "cell_type": "code",
      "metadata": {
        "id": "BEamg-YMHb1h",
        "colab_type": "code",
        "colab": {}
      },
      "source": [
        "q1_table = np.zeros((obs_num, action_num))\n",
        "q2_table = np.zeros((obs_num, action_num))"
      ],
      "execution_count": 0,
      "outputs": []
    },
    {
      "cell_type": "code",
      "metadata": {
        "id": "b7pzzMM9Hgtt",
        "colab_type": "code",
        "colab": {}
      },
      "source": [
        "def greedy(eps):\n",
        "  pivot = random.uniform(0, 1)\n",
        "  return pivot > eps"
      ],
      "execution_count": 0,
      "outputs": []
    },
    {
      "cell_type": "code",
      "metadata": {
        "id": "xAzdXdaVHj2F",
        "colab_type": "code",
        "outputId": "b558172a-d000-4a4a-bcef-330c726ca37f",
        "colab": {
          "base_uri": "https://localhost:8080/",
          "height": 72
        }
      },
      "source": [
        "%%time\n",
        "\n",
        "rewards = []\n",
        "steps_till_success = []\n",
        "\n",
        "for episode in range(episodes_num):\n",
        "  state = env.reset()\n",
        "  reward = 0\n",
        "  step = 0\n",
        "  done = False\n",
        "  cumul_rewards = 0\n",
        "\n",
        "  for step in range(max_steps):\n",
        "\n",
        "    # Choose an action\n",
        "    if greedy(epsilon):\n",
        "      action = np.argmax(q1_table[state,:] + q2_table[state,:])\n",
        "    else:\n",
        "      action = env.action_space.sample()\n",
        "\n",
        "    # Perform it\n",
        "    new_state, reward, done, _ = env.step(action)\n",
        "\n",
        "    # Update q-table\n",
        "    a1_max = np.argmax(q1_table[new_state, :])\n",
        "    a2_max = np.argmax(q2_table[new_state, :])\n",
        "\n",
        "    if random.uniform(0,1) > 0.5:\n",
        "      q1_table[state, action] = q1_table[state, action] + learning_rate * (reward + \n",
        "                  discount * q2_table[new_state, a1_max] - q1_table[state, action])\n",
        "    else:\n",
        "      q2_table[state, action] = q2_table[state, action] + learning_rate * (reward + \n",
        "                  discount * q1_table[new_state, a2_max] - q2_table[state, action])\n",
        "    state = new_state\n",
        "\n",
        "    cumul_rewards += reward\n",
        "\n",
        "    if done == True:\n",
        "      break\n",
        "  \n",
        "  # if episode % 4000 == 0:\n",
        "  #   learning_rate = learning_rate / 2\n",
        "  epsilon = epsilon_min + (epsilon_max - epsilon_min)*np.exp(-decay_rate * episode) \n",
        "  rewards.append(cumul_rewards)\n",
        "\n",
        "env.close()\n",
        "print(f'Average reward:{np.mean(rewards)}')\n",
        "# print(f'Min step to success: {min(steps_till_success)}')"
      ],
      "execution_count": 7,
      "outputs": [
        {
          "output_type": "stream",
          "text": [
            "Average reward:-6.5271333333333335\n",
            "CPU times: user 11.2 s, sys: 6.52 ms, total: 11.2 s\n",
            "Wall time: 11.2 s\n"
          ],
          "name": "stdout"
        }
      ]
    },
    {
      "cell_type": "code",
      "metadata": {
        "id": "lDg92JddKkjA",
        "colab_type": "code",
        "outputId": "8c0c08bc-136d-4207-847d-5d89f5044ca1",
        "colab": {
          "base_uri": "https://localhost:8080/",
          "height": 279
        }
      },
      "source": [
        "plt.plot(rewards)\n",
        "plt.xlabel('Episode')\n",
        "plt.ylabel('Reward')\n",
        "plt.show()"
      ],
      "execution_count": 8,
      "outputs": [
        {
          "output_type": "display_data",
          "data": {
            "image/png": "[encoded data removed]",
            "text/plain": [
              "<Figure size 432x288 with 1 Axes>"
            ]
          },
          "metadata": {
            "tags": []
          }
        }
      ]
    },
    {
      "cell_type": "code",
      "metadata": {
        "id": "2Wt_lIkhKwt1",
        "colab_type": "code",
        "outputId": "a9d9f70c-fc05-4cc0-ca5d-e2767b831701",
        "colab": {
          "base_uri": "https://localhost:8080/",
          "height": 279
        }
      },
      "source": [
        "plt.plot(rewards[-1001:-1])\n",
        "plt.xlabel('Episode')\n",
        "plt.ylabel('Reward')\n",
        "plt.show()"
      ],
      "execution_count": 9,
      "outputs": [
        {
          "output_type": "display_data",
          "data": {
            "image/png": "[encoded data removed]",
            "text/plain": [
              "<Figure size 432x288 with 1 Axes>"
            ]
          },
          "metadata": {
            "tags": []
          }
        }
      ]
    },
    {
      "cell_type": "code",
      "metadata": {
        "id": "_Xn0kfXrBovM",
        "colab_type": "code",
        "outputId": "548b8873-37ed-495a-9015-04702b36bf1c",
        "colab": {
          "base_uri": "https://localhost:8080/",
          "height": 257
        }
      },
      "source": [
        "print(q1_table)"
      ],
      "execution_count": 14,
      "outputs": [
        {
          "output_type": "stream",
          "text": [
            "[[  0.           0.           0.           0.           0.\n",
            "    0.        ]\n",
            " [  2.7507273    3.94947753   2.75196218   3.94946598   5.20997639\n",
            "   -5.05052462]\n",
            " [  7.93349184   9.40367562   7.93349184   9.40367562  10.9512375\n",
            "    0.40367562]\n",
            " ...\n",
            " [ 10.9512375   12.58025     10.95123651   9.40367562   1.9512375\n",
            "    1.9512375 ]\n",
            " [  0.76746882   6.53681692  -6.31853176   5.39129644  -7.26649431\n",
            "  -17.02695099]\n",
            " [ 15.96168498   8.61186018  16.08722953  18.           7.065737\n",
            "    6.95639834]]\n"
          ],
          "name": "stdout"
        }
      ]
    },
    {
      "cell_type": "code",
      "metadata": {
        "id": "WcH-M57RBras",
        "colab_type": "code",
        "colab": {
          "base_uri": "https://localhost:8080/",
          "height": 146
        },
        "outputId": "1965d9e1-a410-416d-c229-5d1ec0db6d06"
      },
      "source": [
        "print(q2_table)"
      ],
      "execution_count": 15,
      "outputs": [
        {
          "output_type": "stream",
          "text": [
            "[[ 0.          0.          0.          0.          0.          0.        ]\n",
            " [ 2.74789572  3.94935157  2.75159424  3.94840073  5.20997639 -5.05055831]\n",
            " [ 7.93349101  9.40367556  7.93349184  9.40367562 10.9512375   0.40367562]\n",
            " ...\n",
            " [10.9512375  12.58025    10.95123749  9.40367525  1.9512375   1.95123749]\n",
            " [ 1.3688623   6.53681642 -6.42232784  2.05698234 -6.13181057 -6.19851058]\n",
            " [14.54695336 14.06092456 15.99857126 18.          6.51132821  1.7975211 ]]\n"
          ],
          "name": "stdout"
        }
      ]
    },
    {
      "cell_type": "code",
      "metadata": {
        "id": "mqW1bla8Y2J5",
        "colab_type": "code",
        "colab": {}
      },
      "source": [
        "q_table = q1_table + q2_table"
      ],
      "execution_count": 0,
      "outputs": []
    },
    {
      "cell_type": "code",
      "metadata": {
        "id": "H9KOFBqGK2Bp",
        "colab_type": "code",
        "outputId": "a910b432-750c-4480-cd33-7c73c864b83b",
        "colab": {
          "base_uri": "https://localhost:8080/",
          "height": 1000
        }
      },
      "source": [
        "env.reset()\n",
        "\n",
        "for episode in range(5):\n",
        "    state = env.reset()\n",
        "    step = 0\n",
        "    done = False\n",
        "    print(\"****************************************************\")\n",
        "    print(\"EPISODE \", episode)\n",
        "\n",
        "    for step in range(max_steps):\n",
        "\n",
        "        action = np.argmax(q_table[state,:])\n",
        "        \n",
        "        new_state, reward, done, info = env.step(action)\n",
        "        \n",
        "        if done:\n",
        "            env.render()\n",
        "            print(\"Number of steps\", step + 1)\n",
        "            break\n",
        "        state = new_state\n",
        "env.close()"
      ],
      "execution_count": 11,
      "outputs": [
        {
          "output_type": "stream",
          "text": [
            "****************************************************\n",
            "EPISODE  0\n",
            "+---------+\n",
            "|R: | : :G|\n",
            "| : | : : |\n",
            "| : : : : |\n",
            "| | : | : |\n",
            "|Y| : |\u001b[35m\u001b[34;1m\u001b[43mB\u001b[0m\u001b[0m\u001b[0m: |\n",
            "+---------+\n",
            "  (Dropoff)\n",
            "Number of steps 12\n",
            "****************************************************\n",
            "EPISODE  1\n",
            "+---------+\n",
            "|R: | : :G|\n",
            "| : | : : |\n",
            "| : : : : |\n",
            "| | : | : |\n",
            "|Y| : |\u001b[35m\u001b[34;1m\u001b[43mB\u001b[0m\u001b[0m\u001b[0m: |\n",
            "+---------+\n",
            "  (Dropoff)\n",
            "Number of steps 15\n",
            "****************************************************\n",
            "EPISODE  2\n",
            "+---------+\n",
            "|\u001b[35m\u001b[34;1m\u001b[43mR\u001b[0m\u001b[0m\u001b[0m: | : :G|\n",
            "| : | : : |\n",
            "| : : : : |\n",
            "| | : | : |\n",
            "|Y| : |B: |\n",
            "+---------+\n",
            "  (Dropoff)\n",
            "Number of steps 16\n",
            "****************************************************\n",
            "EPISODE  3\n",
            "+---------+\n",
            "|R: | : :G|\n",
            "| : | : : |\n",
            "| : : : : |\n",
            "| | : | : |\n",
            "|\u001b[35m\u001b[34;1m\u001b[43mY\u001b[0m\u001b[0m\u001b[0m| : |B: |\n",
            "+---------+\n",
            "  (Dropoff)\n",
            "Number of steps 6\n",
            "****************************************************\n",
            "EPISODE  4\n",
            "+---------+\n",
            "|R: | : :G|\n",
            "| : | : : |\n",
            "| : : : : |\n",
            "| | : | : |\n",
            "|\u001b[35m\u001b[34;1m\u001b[43mY\u001b[0m\u001b[0m\u001b[0m| : |B: |\n",
            "+---------+\n",
            "  (Dropoff)\n",
            "Number of steps 13\n"
          ],
          "name": "stdout"
        }
      ]
    },
    {
      "cell_type": "code",
      "metadata": {
        "id": "znOUwqqm8jXj",
        "colab_type": "code",
        "outputId": "75920fa1-1d1e-4e2e-d33d-02a3d6f81677",
        "colab": {
          "base_uri": "https://localhost:8080/",
          "height": 54
        }
      },
      "source": [
        "reward_eval = []\n",
        "\n",
        "for episode in range(1000):\n",
        "    total_reward = 0\n",
        "    state = env.reset()\n",
        "    done = False\n",
        "\n",
        "    for step in range(max_steps):\n",
        "        \n",
        "        action = np.argmax(q_table[state,:])\n",
        "        \n",
        "        new_state, reward, done, info = env.step(action)\n",
        "\n",
        "        total_reward += reward\n",
        "        \n",
        "        if done:\n",
        "          break\n",
        "        state = new_state\n",
        "      \n",
        "    reward_eval.append(total_reward)\n",
        "env.close()\n",
        "\n",
        "print(f'Average reward: {np.mean(reward_eval)}')\n",
        "print(np.var(reward_eval))"
      ],
      "execution_count": 13,
      "outputs": [
        {
          "output_type": "stream",
          "text": [
            "Average reward: 7.955\n",
            "6.606975\n"
          ],
          "name": "stdout"
        }
      ]
    },
    {
      "cell_type": "code",
      "metadata": {
        "id": "Gs0PqO0F8dFn",
        "colab_type": "code",
        "colab": {}
      },
      "source": [
        "df2 = pd.DataFrame()\n",
        "df2['rewards'] = rewards\n",
        "df2.to_csv('Q_double_tab_Taxi_30000_rewards.csv')\n",
        "files.download(r'Q_double_tab_Taxi_30000_rewards.csv')"
      ],
      "execution_count": 0,
      "outputs": []
    }
  ]
}